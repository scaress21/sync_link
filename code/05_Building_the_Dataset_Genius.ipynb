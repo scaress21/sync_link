{
 "cells": [
  {
   "cell_type": "markdown",
   "metadata": {},
   "source": [
    "# Sync Link\n",
    "### Building the Dataset - Adding Lyrics.com (Writer/Publisher) Info\n",
    "\n",
    "The next layer to add is writers and publishers via info from Lyrics.com. This service does not have an API but is scrapable."
   ]
  },
  {
   "cell_type": "code",
   "execution_count": 1,
   "metadata": {},
   "outputs": [],
   "source": [
    "import pandas as pd\n",
    "import numpy as np\n",
    "import requests"
   ]
  },
  {
   "cell_type": "code",
   "execution_count": 2,
   "metadata": {},
   "outputs": [],
   "source": [
    "sync = pd.read_csv('./data/synced_writer_pub.csv')"
   ]
  },
  {
   "cell_type": "code",
   "execution_count": 3,
   "metadata": {},
   "outputs": [
    {
     "data": {
      "text/html": [
       "<div>\n",
       "<style scoped>\n",
       "    .dataframe tbody tr th:only-of-type {\n",
       "        vertical-align: middle;\n",
       "    }\n",
       "\n",
       "    .dataframe tbody tr th {\n",
       "        vertical-align: top;\n",
       "    }\n",
       "\n",
       "    .dataframe thead th {\n",
       "        text-align: right;\n",
       "    }\n",
       "</style>\n",
       "<table border=\"1\" class=\"dataframe\">\n",
       "  <thead>\n",
       "    <tr style=\"text-align: right;\">\n",
       "      <th></th>\n",
       "      <th>title</th>\n",
       "      <th>artist</th>\n",
       "      <th>year</th>\n",
       "      <th>explicit</th>\n",
       "      <th>styles</th>\n",
       "      <th>languages</th>\n",
       "      <th>title_artist</th>\n",
       "      <th>synced</th>\n",
       "      <th>d_id</th>\n",
       "      <th>d_song</th>\n",
       "      <th>...</th>\n",
       "      <th>d_artist</th>\n",
       "      <th>d_album_id</th>\n",
       "      <th>d_album</th>\n",
       "      <th>d_art</th>\n",
       "      <th>lyric_url</th>\n",
       "      <th>l_title</th>\n",
       "      <th>l_artist</th>\n",
       "      <th>l_album</th>\n",
       "      <th>l_writer</th>\n",
       "      <th>l_pub</th>\n",
       "    </tr>\n",
       "  </thead>\n",
       "  <tbody>\n",
       "    <tr>\n",
       "      <th>0</th>\n",
       "      <td>Tennessee Whiskey</td>\n",
       "      <td>Chris Stapleton</td>\n",
       "      <td>2015</td>\n",
       "      <td>0</td>\n",
       "      <td>Blues,Rock,Country</td>\n",
       "      <td>English</td>\n",
       "      <td>tennessee whiskey - chris stapleton</td>\n",
       "      <td>1</td>\n",
       "      <td>98975170</td>\n",
       "      <td>Tennessee Whiskey</td>\n",
       "      <td>...</td>\n",
       "      <td>Chris Stapleton</td>\n",
       "      <td>10127538</td>\n",
       "      <td>Traveller</td>\n",
       "      <td>https://cdns-images.dzcdn.net/images/cover/1dd...</td>\n",
       "      <td>/c/chris+stapleton/tennessee+whiskey_21104107....</td>\n",
       "      <td>\\nAbout\\nTennessee Whiskey lyrics\\n</td>\n",
       "      <td>Chris Stapleton</td>\n",
       "      <td>\\n                            from album:\\n   ...</td>\n",
       "      <td>Songwriters: Linda H Bartholomew, Dean Dillon</td>\n",
       "      <td>\\n                    Tennessee Whiskey lyrics...</td>\n",
       "    </tr>\n",
       "    <tr>\n",
       "      <th>1</th>\n",
       "      <td>Dance Monkey</td>\n",
       "      <td>Tones and I</td>\n",
       "      <td>2019</td>\n",
       "      <td>0</td>\n",
       "      <td>Pop</td>\n",
       "      <td>English</td>\n",
       "      <td>dance monkey - tones and i</td>\n",
       "      <td>1</td>\n",
       "      <td>739870792</td>\n",
       "      <td>Dance Monkey</td>\n",
       "      <td>...</td>\n",
       "      <td>Tones and I</td>\n",
       "      <td>108770322</td>\n",
       "      <td>The Kids Are Coming</td>\n",
       "      <td>https://cdns-images.dzcdn.net/images/cover/563...</td>\n",
       "      <td>/t/tones+and+i/dance+monkey_1711431.html</td>\n",
       "      <td>\\nTones And I – Dance Monkey Lyrics</td>\n",
       "      <td>Tones And I</td>\n",
       "      <td>0</td>\n",
       "      <td>Songwriters: Toni Watson</td>\n",
       "      <td>\\n                    Dance Monkey lyrics © Wa...</td>\n",
       "    </tr>\n",
       "    <tr>\n",
       "      <th>2</th>\n",
       "      <td>Sweet Caroline</td>\n",
       "      <td>Neil Diamond</td>\n",
       "      <td>1969</td>\n",
       "      <td>0</td>\n",
       "      <td>Pop</td>\n",
       "      <td>English</td>\n",
       "      <td>sweet caroline - neil diamond</td>\n",
       "      <td>1</td>\n",
       "      <td>145434430</td>\n",
       "      <td>Sweet Caroline</td>\n",
       "      <td>...</td>\n",
       "      <td>Neil Diamond</td>\n",
       "      <td>15802430</td>\n",
       "      <td>50th Anniversary Collection</td>\n",
       "      <td>https://cdns-images.dzcdn.net/images/cover/40b...</td>\n",
       "      <td>/n/neil+diamond/sweet+caroline_20098802.html</td>\n",
       "      <td>\\nAbout\\nSweet Caroline lyrics\\n</td>\n",
       "      <td>Neil Diamond</td>\n",
       "      <td>\\n                            from album:\\n   ...</td>\n",
       "      <td>Songwriters: Neil Diamond</td>\n",
       "      <td>\\n                    Sweet Caroline lyrics © ...</td>\n",
       "    </tr>\n",
       "    <tr>\n",
       "      <th>3</th>\n",
       "      <td>Someone You Loved</td>\n",
       "      <td>Lewis Capaldi</td>\n",
       "      <td>2018</td>\n",
       "      <td>0</td>\n",
       "      <td>Pop</td>\n",
       "      <td>English</td>\n",
       "      <td>someone you loved - lewis capaldi</td>\n",
       "      <td>1</td>\n",
       "      <td>582143242</td>\n",
       "      <td>Someone You Loved</td>\n",
       "      <td>...</td>\n",
       "      <td>Lewis Capaldi</td>\n",
       "      <td>78031872</td>\n",
       "      <td>Breach</td>\n",
       "      <td>https://cdns-images.dzcdn.net/images/cover/9a4...</td>\n",
       "      <td>/l/lewis+capaldi/someone+you+loved_21585657.html</td>\n",
       "      <td>\\nLewis Capaldi – Someone You Loved Lyrics</td>\n",
       "      <td>Lewis Capaldi</td>\n",
       "      <td>0</td>\n",
       "      <td>Songwriters: Benjamin Kohn, Lewis Capaldi, Pet...</td>\n",
       "      <td>\\n                    Someone You Loved lyrics...</td>\n",
       "    </tr>\n",
       "    <tr>\n",
       "      <th>4</th>\n",
       "      <td>Amazing Grace</td>\n",
       "      <td>Traditional</td>\n",
       "      <td>1831</td>\n",
       "      <td>0</td>\n",
       "      <td>Traditionnal,Gospel,Blues</td>\n",
       "      <td>English</td>\n",
       "      <td>amazing grace - traditional</td>\n",
       "      <td>1</td>\n",
       "      <td>958704262</td>\n",
       "      <td>Amazing Grace</td>\n",
       "      <td>...</td>\n",
       "      <td>Traditional</td>\n",
       "      <td>147840742</td>\n",
       "      <td>8 Angels Blessing of Song</td>\n",
       "      <td>https://e-cdns-images.dzcdn.net/images/cover/a...</td>\n",
       "      <td>NaN</td>\n",
       "      <td>0</td>\n",
       "      <td>0</td>\n",
       "      <td>0</td>\n",
       "      <td>0</td>\n",
       "      <td>0</td>\n",
       "    </tr>\n",
       "  </tbody>\n",
       "</table>\n",
       "<p>5 rows × 24 columns</p>\n",
       "</div>"
      ],
      "text/plain": [
       "               title           artist  year  explicit  \\\n",
       "0  Tennessee Whiskey  Chris Stapleton  2015         0   \n",
       "1       Dance Monkey      Tones and I  2019         0   \n",
       "2     Sweet Caroline     Neil Diamond  1969         0   \n",
       "3  Someone You Loved    Lewis Capaldi  2018         0   \n",
       "4      Amazing Grace      Traditional  1831         0   \n",
       "\n",
       "                      styles languages                         title_artist  \\\n",
       "0         Blues,Rock,Country   English  tennessee whiskey - chris stapleton   \n",
       "1                        Pop   English           dance monkey - tones and i   \n",
       "2                        Pop   English        sweet caroline - neil diamond   \n",
       "3                        Pop   English    someone you loved - lewis capaldi   \n",
       "4  Traditionnal,Gospel,Blues   English          amazing grace - traditional   \n",
       "\n",
       "   synced       d_id             d_song  ...         d_artist d_album_id  \\\n",
       "0       1   98975170  Tennessee Whiskey  ...  Chris Stapleton   10127538   \n",
       "1       1  739870792       Dance Monkey  ...      Tones and I  108770322   \n",
       "2       1  145434430     Sweet Caroline  ...     Neil Diamond   15802430   \n",
       "3       1  582143242  Someone You Loved  ...    Lewis Capaldi   78031872   \n",
       "4       1  958704262      Amazing Grace  ...      Traditional  147840742   \n",
       "\n",
       "                       d_album  \\\n",
       "0                    Traveller   \n",
       "1          The Kids Are Coming   \n",
       "2  50th Anniversary Collection   \n",
       "3                       Breach   \n",
       "4    8 Angels Blessing of Song   \n",
       "\n",
       "                                               d_art  \\\n",
       "0  https://cdns-images.dzcdn.net/images/cover/1dd...   \n",
       "1  https://cdns-images.dzcdn.net/images/cover/563...   \n",
       "2  https://cdns-images.dzcdn.net/images/cover/40b...   \n",
       "3  https://cdns-images.dzcdn.net/images/cover/9a4...   \n",
       "4  https://e-cdns-images.dzcdn.net/images/cover/a...   \n",
       "\n",
       "                                           lyric_url  \\\n",
       "0  /c/chris+stapleton/tennessee+whiskey_21104107....   \n",
       "1           /t/tones+and+i/dance+monkey_1711431.html   \n",
       "2       /n/neil+diamond/sweet+caroline_20098802.html   \n",
       "3   /l/lewis+capaldi/someone+you+loved_21585657.html   \n",
       "4                                                NaN   \n",
       "\n",
       "                                      l_title         l_artist  \\\n",
       "0         \\nAbout\\nTennessee Whiskey lyrics\\n  Chris Stapleton   \n",
       "1         \\nTones And I – Dance Monkey Lyrics      Tones And I   \n",
       "2            \\nAbout\\nSweet Caroline lyrics\\n     Neil Diamond   \n",
       "3  \\nLewis Capaldi – Someone You Loved Lyrics    Lewis Capaldi   \n",
       "4                                           0                0   \n",
       "\n",
       "                                             l_album  \\\n",
       "0  \\n                            from album:\\n   ...   \n",
       "1                                                  0   \n",
       "2  \\n                            from album:\\n   ...   \n",
       "3                                                  0   \n",
       "4                                                  0   \n",
       "\n",
       "                                            l_writer  \\\n",
       "0      Songwriters: Linda H Bartholomew, Dean Dillon   \n",
       "1                           Songwriters: Toni Watson   \n",
       "2                          Songwriters: Neil Diamond   \n",
       "3  Songwriters: Benjamin Kohn, Lewis Capaldi, Pet...   \n",
       "4                                                  0   \n",
       "\n",
       "                                               l_pub  \n",
       "0  \\n                    Tennessee Whiskey lyrics...  \n",
       "1  \\n                    Dance Monkey lyrics © Wa...  \n",
       "2  \\n                    Sweet Caroline lyrics © ...  \n",
       "3  \\n                    Someone You Loved lyrics...  \n",
       "4                                                  0  \n",
       "\n",
       "[5 rows x 24 columns]"
      ]
     },
     "execution_count": 3,
     "metadata": {},
     "output_type": "execute_result"
    }
   ],
   "source": [
    "sync.head()"
   ]
  },
  {
   "cell_type": "code",
   "execution_count": 4,
   "metadata": {},
   "outputs": [
    {
     "data": {
      "text/plain": [
       "title              0\n",
       "artist             0\n",
       "year               0\n",
       "explicit           0\n",
       "styles             0\n",
       "languages          0\n",
       "title_artist       0\n",
       "synced             0\n",
       "d_id               0\n",
       "d_song             0\n",
       "d_isrc             0\n",
       "d_release          0\n",
       "d_explicit         0\n",
       "d_bpm              0\n",
       "d_artist           0\n",
       "d_album_id         0\n",
       "d_album            0\n",
       "d_art              1\n",
       "lyric_url       3128\n",
       "l_title            0\n",
       "l_artist           0\n",
       "l_album            0\n",
       "l_writer           0\n",
       "l_pub              0\n",
       "dtype: int64"
      ]
     },
     "execution_count": 4,
     "metadata": {},
     "output_type": "execute_result"
    }
   ],
   "source": [
    "sync.isna().sum()"
   ]
  },
  {
   "cell_type": "code",
   "execution_count": 10,
   "metadata": {},
   "outputs": [
    {
     "data": {
      "text/plain": [
       "0    2720\n",
       "1     408\n",
       "Name: synced, dtype: int64"
      ]
     },
     "execution_count": 10,
     "metadata": {},
     "output_type": "execute_result"
    }
   ],
   "source": [
    "sync[sync['lyric_url'].isna()]['synced'].value_counts()"
   ]
  },
  {
   "cell_type": "code",
   "execution_count": 11,
   "metadata": {},
   "outputs": [
    {
     "data": {
      "text/plain": [
       "0    7280\n",
       "1    4283\n",
       "Name: synced, dtype: int64"
      ]
     },
     "execution_count": 11,
     "metadata": {},
     "output_type": "execute_result"
    }
   ],
   "source": [
    "sync[sync['lyric_url'].notna()]['synced'].value_counts()"
   ]
  },
  {
   "cell_type": "code",
   "execution_count": 21,
   "metadata": {},
   "outputs": [],
   "source": [
    "sync = sync[(sync['lyric_url'].notna()) & (sync['d_isrc'] != '0') | (sync['artist'] == 'Traditional')]"
   ]
  },
  {
   "cell_type": "code",
   "execution_count": 14,
   "metadata": {},
   "outputs": [],
   "source": [
    "#Help with Genius API from here: https://stackoverflow.com/questions/47400466/using-genius-api\n",
    "genius = 'qAc4FAll2im6cOifd-eIc72y6s5883Rg6VLcsLLDLyZIMxK90PAAhHV3UQlbtUzB'"
   ]
  },
  {
   "cell_type": "code",
   "execution_count": 33,
   "metadata": {},
   "outputs": [],
   "source": [
    "header = {'Authorization' : f'Bearer {genius}'}"
   ]
  },
  {
   "cell_type": "code",
   "execution_count": null,
   "metadata": {},
   "outputs": [],
   "source": [
    "def get_genius(search):\n",
    "    res = requests.get('https://api.genius.com/search?q=' + search, headers = header)"
   ]
  },
  {
   "cell_type": "code",
   "execution_count": 65,
   "metadata": {},
   "outputs": [],
   "source": [
    "search = 'someone you loved - lewis capaldi'"
   ]
  },
  {
   "cell_type": "code",
   "execution_count": 66,
   "metadata": {},
   "outputs": [],
   "source": [
    "res = requests.get('https://api.genius.com/search?q=' + search, headers = header)"
   ]
  },
  {
   "cell_type": "code",
   "execution_count": 67,
   "metadata": {},
   "outputs": [
    {
     "data": {
      "text/plain": [
       "200"
      ]
     },
     "execution_count": 67,
     "metadata": {},
     "output_type": "execute_result"
    }
   ],
   "source": [
    "res.status_code"
   ]
  },
  {
   "cell_type": "code",
   "execution_count": 70,
   "metadata": {},
   "outputs": [],
   "source": [
    "song = res.json()['response']['hits'][0]['result']['api_path']"
   ]
  },
  {
   "cell_type": "code",
   "execution_count": 71,
   "metadata": {},
   "outputs": [],
   "source": [
    "res2 = requests.get('https://api.genius.com' + song, headers = header)"
   ]
  },
  {
   "cell_type": "code",
   "execution_count": 72,
   "metadata": {},
   "outputs": [
    {
     "data": {
      "text/plain": [
       "200"
      ]
     },
     "execution_count": 72,
     "metadata": {},
     "output_type": "execute_result"
    }
   ],
   "source": [
    "res2.status_code"
   ]
  },
  {
   "cell_type": "code",
   "execution_count": 1,
   "metadata": {},
   "outputs": [
    {
     "ename": "NameError",
     "evalue": "name 'res2' is not defined",
     "output_type": "error",
     "traceback": [
      "\u001b[0;31m---------------------------------------------------------------------------\u001b[0m",
      "\u001b[0;31mNameError\u001b[0m                                 Traceback (most recent call last)",
      "\u001b[0;32m<ipython-input-1-7fe572ee12db>\u001b[0m in \u001b[0;36m<module>\u001b[0;34m\u001b[0m\n\u001b[0;32m----> 1\u001b[0;31m \u001b[0minfo\u001b[0m \u001b[0;34m=\u001b[0m \u001b[0mres2\u001b[0m\u001b[0;34m.\u001b[0m\u001b[0mjson\u001b[0m\u001b[0;34m(\u001b[0m\u001b[0;34m)\u001b[0m\u001b[0;34m\u001b[0m\u001b[0;34m\u001b[0m\u001b[0m\n\u001b[0m\u001b[1;32m      2\u001b[0m \u001b[0minfo\u001b[0m\u001b[0;34m\u001b[0m\u001b[0;34m\u001b[0m\u001b[0m\n",
      "\u001b[0;31mNameError\u001b[0m: name 'res2' is not defined"
     ]
    }
   ],
   "source": [
    "info = res2.json()\n",
    "info"
   ]
  },
  {
   "cell_type": "code",
   "execution_count": 95,
   "metadata": {},
   "outputs": [],
   "source": [
    "apl_id = info['response']['song']['apple_music_id']\n",
    "date = info['response']['song']['release_date']\n",
    "title = info['response']['song']['title']\n",
    "artist = info['response']['song']['album']['artist']['name']\n",
    "writers = [x['name'] for x in info['response']['song']['writer_artists']]\n",
    "album = info['response']['song']['album']['name']"
   ]
  },
  {
   "cell_type": "code",
   "execution_count": 107,
   "metadata": {},
   "outputs": [],
   "source": [
    "album = info['response']['song']['custom_performances']"
   ]
  },
  {
   "cell_type": "code",
   "execution_count": 113,
   "metadata": {},
   "outputs": [
    {
     "data": {
      "text/plain": [
       "[{'label': 'Label',\n",
       "  'artists': [{'api_path': '/artists/649294',\n",
       "    'header_image_url': 'https://images.genius.com/7b9c33d6905bad2ae8556178667abcdc.900x900x1.png',\n",
       "    'id': 649294,\n",
       "    'image_url': 'https://images.genius.com/402247ed5f42660a2c388f18e29caa2f.900x900x1.png',\n",
       "    'is_meme_verified': False,\n",
       "    'is_verified': False,\n",
       "    'name': 'Virgin Records',\n",
       "    'url': 'https://genius.com/artists/Virgin-records'},\n",
       "   {'api_path': '/artists/647615',\n",
       "    'header_image_url': 'https://images.genius.com/f03cc67ee5828928166f5d234dedff40.1000x563x1.jpg',\n",
       "    'id': 647615,\n",
       "    'image_url': 'https://images.genius.com/d556ebe6396046228f1a6e326c05b3f3.1000x1000x1.png',\n",
       "    'is_meme_verified': False,\n",
       "    'is_verified': False,\n",
       "    'name': 'Capitol Records',\n",
       "    'url': 'https://genius.com/artists/Capitol-records'}]},\n",
       " {'label': 'Copyright ©',\n",
       "  'artists': [{'api_path': '/artists/1104563',\n",
       "    'header_image_url': 'https://images.genius.com/6ee5d6766689e04358c1d0f8ea0ed8f0.600x600x1.png',\n",
       "    'id': 1104563,\n",
       "    'image_url': 'https://images.genius.com/7b3fb2c00317cb2eb2453f9f4e7473d1.600x600x1.png',\n",
       "    'is_meme_verified': False,\n",
       "    'is_verified': False,\n",
       "    'name': 'Universal Music Group',\n",
       "    'url': 'https://genius.com/artists/Universal-music-group'},\n",
       "   {'api_path': '/artists/649294',\n",
       "    'header_image_url': 'https://images.genius.com/7b9c33d6905bad2ae8556178667abcdc.900x900x1.png',\n",
       "    'id': 649294,\n",
       "    'image_url': 'https://images.genius.com/402247ed5f42660a2c388f18e29caa2f.900x900x1.png',\n",
       "    'is_meme_verified': False,\n",
       "    'is_verified': False,\n",
       "    'name': 'Virgin Records',\n",
       "    'url': 'https://genius.com/artists/Virgin-records'},\n",
       "   {'api_path': '/artists/647615',\n",
       "    'header_image_url': 'https://images.genius.com/f03cc67ee5828928166f5d234dedff40.1000x563x1.jpg',\n",
       "    'id': 647615,\n",
       "    'image_url': 'https://images.genius.com/d556ebe6396046228f1a6e326c05b3f3.1000x1000x1.png',\n",
       "    'is_meme_verified': False,\n",
       "    'is_verified': False,\n",
       "    'name': 'Capitol Records',\n",
       "    'url': 'https://genius.com/artists/Capitol-records'}]},\n",
       " {'label': 'Programmer',\n",
       "  'artists': [{'api_path': '/artists/398490',\n",
       "    'header_image_url': 'https://images.genius.com/avatars/medium/704ddece6cb1ebf4facf5d16e790ed8b',\n",
       "    'id': 398490,\n",
       "    'image_url': 'https://images.genius.com/avatars/medium/704ddece6cb1ebf4facf5d16e790ed8b',\n",
       "    'is_meme_verified': False,\n",
       "    'is_verified': True,\n",
       "    'name': 'Tom Barnes',\n",
       "    'url': 'https://genius.com/artists/Tom-barnes',\n",
       "    'iq': 100}]},\n",
       " {'label': 'Mixing Engineer',\n",
       "  'artists': [{'api_path': '/artists/34892',\n",
       "    'header_image_url': 'https://images.genius.com/a23810a5edc53428db4e256dedb11254.1000x665x1.jpg',\n",
       "    'id': 34892,\n",
       "    'image_url': 'https://images.genius.com/a23810a5edc53428db4e256dedb11254.1000x665x1.jpg',\n",
       "    'is_meme_verified': False,\n",
       "    'is_verified': False,\n",
       "    'name': 'TMS',\n",
       "    'url': 'https://genius.com/artists/Tms'}]},\n",
       " {'label': 'Mastering Engineer',\n",
       "  'artists': [{'api_path': '/artists/977287',\n",
       "    'header_image_url': 'https://images.genius.com/a7dffd875c78142cd720b8f690c6b2d5.500x500x1.jpg',\n",
       "    'id': 977287,\n",
       "    'image_url': 'https://images.genius.com/b380a280bd72e07ae9b34a55fdaa7a65.500x500x1.jpg',\n",
       "    'is_meme_verified': False,\n",
       "    'is_verified': False,\n",
       "    'name': 'Robert Vosgien',\n",
       "    'url': 'https://genius.com/artists/Robert-vosgien'}]},\n",
       " {'label': 'Phonographic Copyright ℗',\n",
       "  'artists': [{'api_path': '/artists/649294',\n",
       "    'header_image_url': 'https://images.genius.com/7b9c33d6905bad2ae8556178667abcdc.900x900x1.png',\n",
       "    'id': 649294,\n",
       "    'image_url': 'https://images.genius.com/402247ed5f42660a2c388f18e29caa2f.900x900x1.png',\n",
       "    'is_meme_verified': False,\n",
       "    'is_verified': False,\n",
       "    'name': 'Virgin Records',\n",
       "    'url': 'https://genius.com/artists/Virgin-records'},\n",
       "   {'api_path': '/artists/647615',\n",
       "    'header_image_url': 'https://images.genius.com/f03cc67ee5828928166f5d234dedff40.1000x563x1.jpg',\n",
       "    'id': 647615,\n",
       "    'image_url': 'https://images.genius.com/d556ebe6396046228f1a6e326c05b3f3.1000x1000x1.png',\n",
       "    'is_meme_verified': False,\n",
       "    'is_verified': False,\n",
       "    'name': 'Capitol Records',\n",
       "    'url': 'https://genius.com/artists/Capitol-records'},\n",
       "   {'api_path': '/artists/1104563',\n",
       "    'header_image_url': 'https://images.genius.com/6ee5d6766689e04358c1d0f8ea0ed8f0.600x600x1.png',\n",
       "    'id': 1104563,\n",
       "    'image_url': 'https://images.genius.com/7b3fb2c00317cb2eb2453f9f4e7473d1.600x600x1.png',\n",
       "    'is_meme_verified': False,\n",
       "    'is_verified': False,\n",
       "    'name': 'Universal Music Group',\n",
       "    'url': 'https://genius.com/artists/Universal-music-group'},\n",
       "   {'api_path': '/artists/823119',\n",
       "    'header_image_url': 'https://images.genius.com/e2164fc715502b6bb6af4f0dbd7f7135.214x214x1.jpg',\n",
       "    'id': 823119,\n",
       "    'image_url': 'https://images.genius.com/e2164fc715502b6bb6af4f0dbd7f7135.214x214x1.jpg',\n",
       "    'is_meme_verified': False,\n",
       "    'is_verified': False,\n",
       "    'name': 'Vertigo Berlin',\n",
       "    'url': 'https://genius.com/artists/Vertigo-berlin'}]},\n",
       " {'label': 'Bass',\n",
       "  'artists': [{'api_path': '/artists/398492',\n",
       "    'header_image_url': 'https://assets.genius.com/images/default_avatar_300.png?1589830181',\n",
       "    'id': 398492,\n",
       "    'image_url': 'https://assets.genius.com/images/default_avatar_300.png?1589830181',\n",
       "    'is_meme_verified': False,\n",
       "    'is_verified': False,\n",
       "    'name': 'Pete Kelleher',\n",
       "    'url': 'https://genius.com/artists/Pete-kelleher'}]},\n",
       " {'label': 'Piano',\n",
       "  'artists': [{'api_path': '/artists/398491',\n",
       "    'header_image_url': 'https://assets.genius.com/images/default_avatar_300.png?1589830181',\n",
       "    'id': 398491,\n",
       "    'image_url': 'https://assets.genius.com/images/default_avatar_300.png?1589830181',\n",
       "    'is_meme_verified': False,\n",
       "    'is_verified': False,\n",
       "    'name': 'Ben Kohn',\n",
       "    'url': 'https://genius.com/artists/Ben-kohn'}]},\n",
       " {'label': 'Strings',\n",
       "  'artists': [{'api_path': '/artists/539710',\n",
       "    'header_image_url': 'https://images.genius.com/587400b1e35e21f8240eacd7ac2b2ea9.486x323x1.jpg',\n",
       "    'id': 539710,\n",
       "    'image_url': 'https://images.genius.com/7d2038e9852de4ae80b75b0052ea0a3f.473x473x1.png',\n",
       "    'is_meme_verified': False,\n",
       "    'is_verified': False,\n",
       "    'name': 'Phil Cook',\n",
       "    'url': 'https://genius.com/artists/Phil-cook'}]}]"
      ]
     },
     "execution_count": 113,
     "metadata": {},
     "output_type": "execute_result"
    }
   ],
   "source": [
    "album"
   ]
  },
  {
   "cell_type": "code",
   "execution_count": 106,
   "metadata": {},
   "outputs": [
    {
     "data": {
      "text/plain": [
       "'Virgin Records'"
      ]
     },
     "execution_count": 106,
     "metadata": {},
     "output_type": "execute_result"
    }
   ],
   "source": [
    "album[0]['artists'][0]['name']"
   ]
  },
  {
   "cell_type": "code",
   "execution_count": null,
   "metadata": {},
   "outputs": [],
   "source": []
  }
 ],
 "metadata": {
  "kernelspec": {
   "display_name": "Python 3",
   "language": "python",
   "name": "python3"
  },
  "language_info": {
   "codemirror_mode": {
    "name": "ipython",
    "version": 3
   },
   "file_extension": ".py",
   "mimetype": "text/x-python",
   "name": "python",
   "nbconvert_exporter": "python",
   "pygments_lexer": "ipython3",
   "version": "3.7.6"
  }
 },
 "nbformat": 4,
 "nbformat_minor": 4
}
