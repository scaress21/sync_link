{
 "cells": [
  {
   "cell_type": "markdown",
   "metadata": {},
   "source": [
    "# Sync Link\n",
    "### Part 5: Application"
   ]
  },
  {
   "cell_type": "code",
   "execution_count": 74,
   "metadata": {},
   "outputs": [],
   "source": [
    "import pandas as pd\n",
    "import numpy as np\n",
    "import requests\n",
    "from bs4 import BeautifulSoup\n",
    "import pickle"
   ]
  },
  {
   "cell_type": "code",
   "execution_count": 75,
   "metadata": {},
   "outputs": [],
   "source": [
    "title = 'Tennessee Whiskey'\n",
    "artist = 'Chris Stapleton'\n",
    "search_test = title.lower() + ' ' + artist.lower()"
   ]
  },
  {
   "cell_type": "code",
   "execution_count": 76,
   "metadata": {},
   "outputs": [
    {
     "data": {
      "text/plain": [
       "'tennessee whiskey chris stapleton'"
      ]
     },
     "execution_count": 76,
     "metadata": {},
     "output_type": "execute_result"
    }
   ],
   "source": [
    "search_test"
   ]
  },
  {
   "cell_type": "markdown",
   "metadata": {},
   "source": [
    "### Deezer (Master)"
   ]
  },
  {
   "cell_type": "code",
   "execution_count": 86,
   "metadata": {},
   "outputs": [],
   "source": [
    "def gather_deezer(song_s, artist_s):\n",
    "        master_info = {}\n",
    "        try:\n",
    "            \n",
    "            deez_url = f'https://api.deezer.com/search?q=artist:\\\"{artist_s}\\\" track:\\\"{song_s}\\\"'\n",
    "            deezer_q = requests.get(deez_url)\n",
    "            track = str(deezer_q.json()['data'][0]['id'])\n",
    "\n",
    "            deezer_track = requests.get('https://api.deezer.com/track/' + track)\n",
    "            data = deezer_track.json()\n",
    "\n",
    "            \n",
    "            master_info['Master'] = 'Master Info from Deezer'\n",
    "            master_info['Recording Title'] = data['title']\n",
    "            master_info['Artist'] = data['artist']['name']\n",
    "            master_info['Album Title'] = data['album']['title']\n",
    "            master_info['ISRC'] =  data['isrc']\n",
    "            master_info['Release Date'] = data['release_date']\n",
    "            master_info['Is Explicit?']= data['explicit_lyrics']\n",
    "            master_info['BPM'] = data['bpm']\n",
    "            master_info['Deezer Track ID'] = data['id']\n",
    "            master_info['Link to Album on Deezer'] = data['album']['link']\n",
    "            \n",
    "           \n",
    "            master_info['Album Art']= data['album']['cover_medium']\n",
    "        \n",
    "        except:\n",
    "            print(f'Could not find on Deezer.')\n",
    "    \n",
    "        master_df = pd.DataFrame([master_info])\n",
    "        \n",
    "        master_df.set_index('Master', inplace = True)\n",
    "       \n",
    "        \n",
    "        return master_df.T"
   ]
  },
  {
   "cell_type": "code",
   "execution_count": 87,
   "metadata": {},
   "outputs": [],
   "source": [
    "master = gather_deezer(title, artist)"
   ]
  },
  {
   "cell_type": "code",
   "execution_count": 88,
   "metadata": {},
   "outputs": [
    {
     "data": {
      "text/html": [
       "<div>\n",
       "<style scoped>\n",
       "    .dataframe tbody tr th:only-of-type {\n",
       "        vertical-align: middle;\n",
       "    }\n",
       "\n",
       "    .dataframe tbody tr th {\n",
       "        vertical-align: top;\n",
       "    }\n",
       "\n",
       "    .dataframe thead th {\n",
       "        text-align: right;\n",
       "    }\n",
       "</style>\n",
       "<table border=\"1\" class=\"dataframe\">\n",
       "  <thead>\n",
       "    <tr style=\"text-align: right;\">\n",
       "      <th>Master</th>\n",
       "      <th>Master Info from Deezer</th>\n",
       "    </tr>\n",
       "  </thead>\n",
       "  <tbody>\n",
       "    <tr>\n",
       "      <th>Recording Title</th>\n",
       "      <td>Tennessee Whiskey</td>\n",
       "    </tr>\n",
       "    <tr>\n",
       "      <th>Artist</th>\n",
       "      <td>Chris Stapleton</td>\n",
       "    </tr>\n",
       "    <tr>\n",
       "      <th>Album Title</th>\n",
       "      <td>Traveller</td>\n",
       "    </tr>\n",
       "    <tr>\n",
       "      <th>ISRC</th>\n",
       "      <td>USUM71418088</td>\n",
       "    </tr>\n",
       "    <tr>\n",
       "      <th>Release Date</th>\n",
       "      <td>2015-05-04</td>\n",
       "    </tr>\n",
       "    <tr>\n",
       "      <th>Is Explicit?</th>\n",
       "      <td>False</td>\n",
       "    </tr>\n",
       "    <tr>\n",
       "      <th>BPM</th>\n",
       "      <td>152</td>\n",
       "    </tr>\n",
       "    <tr>\n",
       "      <th>Deezer Track ID</th>\n",
       "      <td>98975170</td>\n",
       "    </tr>\n",
       "    <tr>\n",
       "      <th>Link to Album on Deezer</th>\n",
       "      <td>https://www.deezer.com/album/10127538</td>\n",
       "    </tr>\n",
       "    <tr>\n",
       "      <th>Album Art</th>\n",
       "      <td>https://e-cdns-images.dzcdn.net/images/cover/1...</td>\n",
       "    </tr>\n",
       "  </tbody>\n",
       "</table>\n",
       "</div>"
      ],
      "text/plain": [
       "Master                                             Master Info from Deezer\n",
       "Recording Title                                          Tennessee Whiskey\n",
       "Artist                                                     Chris Stapleton\n",
       "Album Title                                                      Traveller\n",
       "ISRC                                                          USUM71418088\n",
       "Release Date                                                    2015-05-04\n",
       "Is Explicit?                                                         False\n",
       "BPM                                                                    152\n",
       "Deezer Track ID                                                   98975170\n",
       "Link to Album on Deezer              https://www.deezer.com/album/10127538\n",
       "Album Art                https://e-cdns-images.dzcdn.net/images/cover/1..."
      ]
     },
     "execution_count": 88,
     "metadata": {},
     "output_type": "execute_result"
    }
   ],
   "source": [
    "master"
   ]
  },
  {
   "cell_type": "code",
   "execution_count": 89,
   "metadata": {},
   "outputs": [],
   "source": [
    "title = master.iloc[0, 0].lower()\n",
    "artist = master.iloc[1, 0].lower()\n",
    "search_new = title + ' ' + artist"
   ]
  },
  {
   "cell_type": "code",
   "execution_count": 90,
   "metadata": {},
   "outputs": [
    {
     "data": {
      "text/plain": [
       "'tennessee whiskey chris stapleton'"
      ]
     },
     "execution_count": 90,
     "metadata": {},
     "output_type": "execute_result"
    }
   ],
   "source": [
    "search_new"
   ]
  },
  {
   "cell_type": "markdown",
   "metadata": {},
   "source": [
    "### Lyric Freak (Publishing)"
   ]
  },
  {
   "cell_type": "code",
   "execution_count": 91,
   "metadata": {},
   "outputs": [],
   "source": [
    "def clean_title(song):\n",
    "    song = song.replace('About', '').replace('Lyrics', '').replace('lyrics', '')\n",
    "    try:\n",
    "        song = song.split('–')[1]\n",
    "    except:\n",
    "        pass\n",
    "    song = song.strip()\n",
    "    return song"
   ]
  },
  {
   "cell_type": "code",
   "execution_count": 92,
   "metadata": {},
   "outputs": [],
   "source": [
    "def clean_pub(string):\n",
    "    try:\n",
    "        string = string.split('©')[1]\n",
    "        string = string.split('Lyrics')[0]\n",
    "        if ', Inc.' in string:\n",
    "            string = string.replace(', Inc.', '')\n",
    "        if '\\\\n' in string:\n",
    "            string = string.replace('\\\\n', '')  \n",
    "    except:\n",
    "        pass\n",
    "    return string.strip()"
   ]
  },
  {
   "cell_type": "code",
   "execution_count": 93,
   "metadata": {},
   "outputs": [],
   "source": [
    "def gather_lyricfreak(search):\n",
    "    pub_info = {}\n",
    "    \n",
    "    try:\n",
    "        base = 'https://www.lyricsfreak.com/search.php?q='\n",
    "        query = search.replace('-', '').replace(' ', '%20')\n",
    "        res = requests.get(base + query)\n",
    "        soup = BeautifulSoup(res.content, 'lxml')\n",
    "        song = soup.find('a', {'class': 'song'})\n",
    "        url = song['href']\n",
    "    \n",
    "        res_2 = requests.get('https://www.lyricsfreak.com' + url)\n",
    "        soup_2 = BeautifulSoup(res_2.content, 'lxml')\n",
    "    \n",
    "        title = soup_2.find('h2').text\n",
    "        artist = soup_2.find('a', {'class' : 'song-page-conthead-link'}).text\n",
    "\n",
    "\n",
    "        writer_pub = soup_2.find_all('div', {'class' : 'meta_l'})\n",
    "        writer = writer_pub[0].text\n",
    "        pub = writer_pub[1].text\n",
    "\n",
    "        if  soup_2.find('div', {'class' : 'lf-hero__subtitle'}):\n",
    "            album = soup_2.find('div', {'class' : 'lf-hero__subtitle'}).text \n",
    "            pub_info['Album'] = album.split('album:\\n')[1].strip().split(' ')[0]\n",
    "\n",
    "        #Putting it into the dictionary\n",
    "        pub_info['Publishing'] = 'Publishing Info from Lyric Freak'\n",
    "        pub_info['Composition Title'] = clean_title(title)\n",
    "        pub_info['Performed By'] = artist\n",
    "        pub_info['Writers'] = writer.replace('Songwriters: ', '')\n",
    "        pub_info['Publishers'] = clean_pub(pub)\n",
    "        \n",
    "        pub_df = pd.DataFrame([pub_info])\n",
    "        \n",
    "        pub_df.set_index('Publishing', inplace = True)\n",
    "        \n",
    "        return pub_df.T\n",
    "    \n",
    "    except:\n",
    "        return f'Could not find on Lyric Freak.' "
   ]
  },
  {
   "cell_type": "code",
   "execution_count": 94,
   "metadata": {},
   "outputs": [],
   "source": [
    "publishing = gather_lyricfreak(search_new)"
   ]
  },
  {
   "cell_type": "code",
   "execution_count": 95,
   "metadata": {},
   "outputs": [
    {
     "data": {
      "text/html": [
       "<div>\n",
       "<style scoped>\n",
       "    .dataframe tbody tr th:only-of-type {\n",
       "        vertical-align: middle;\n",
       "    }\n",
       "\n",
       "    .dataframe tbody tr th {\n",
       "        vertical-align: top;\n",
       "    }\n",
       "\n",
       "    .dataframe thead th {\n",
       "        text-align: right;\n",
       "    }\n",
       "</style>\n",
       "<table border=\"1\" class=\"dataframe\">\n",
       "  <thead>\n",
       "    <tr style=\"text-align: right;\">\n",
       "      <th>Publishing</th>\n",
       "      <th>Publishing Info from Lyric Freak</th>\n",
       "    </tr>\n",
       "  </thead>\n",
       "  <tbody>\n",
       "    <tr>\n",
       "      <th>Album</th>\n",
       "      <td>Traveller</td>\n",
       "    </tr>\n",
       "    <tr>\n",
       "      <th>Composition Title</th>\n",
       "      <td>Tennessee Whiskey</td>\n",
       "    </tr>\n",
       "    <tr>\n",
       "      <th>Performed By</th>\n",
       "      <td>Chris Stapleton</td>\n",
       "    </tr>\n",
       "    <tr>\n",
       "      <th>Writers</th>\n",
       "      <td>Linda H Bartholomew, Dean Dillon</td>\n",
       "    </tr>\n",
       "    <tr>\n",
       "      <th>Publishers</th>\n",
       "      <td>Sony/ATV Music Publishing LLC, Universal Music...</td>\n",
       "    </tr>\n",
       "  </tbody>\n",
       "</table>\n",
       "</div>"
      ],
      "text/plain": [
       "Publishing                          Publishing Info from Lyric Freak\n",
       "Album                                                      Traveller\n",
       "Composition Title                                  Tennessee Whiskey\n",
       "Performed By                                         Chris Stapleton\n",
       "Writers                             Linda H Bartholomew, Dean Dillon\n",
       "Publishers         Sony/ATV Music Publishing LLC, Universal Music..."
      ]
     },
     "execution_count": 95,
     "metadata": {},
     "output_type": "execute_result"
    }
   ],
   "source": [
    "publishing"
   ]
  },
  {
   "cell_type": "markdown",
   "metadata": {},
   "source": [
    "### Genius (Lyrics)"
   ]
  },
  {
   "cell_type": "code",
   "execution_count": 96,
   "metadata": {},
   "outputs": [],
   "source": [
    "def gather_genius(search):\n",
    "    from credentials import genius\n",
    "    header = {'Authorization' : f'Bearer {genius}'}\n",
    "    \n",
    "    res = requests.get('https://api.genius.com/search?q=' + search, headers = header)\n",
    "    \n",
    "    \n",
    "    song = res.json()['response']['hits'][0]['result']['api_path']\n",
    "    res2 = requests.get('https://api.genius.com' + song, headers = header)\n",
    "    embed = res2.json()['response']['song']['embed_content']\n",
    "    \n",
    "    return embed"
   ]
  },
  {
   "cell_type": "code",
   "execution_count": 97,
   "metadata": {},
   "outputs": [],
   "source": [
    "genius_lyrics = gather_genius(search_new)"
   ]
  },
  {
   "cell_type": "markdown",
   "metadata": {},
   "source": [
    "### Spotify (Song Features)"
   ]
  },
  {
   "cell_type": "code",
   "execution_count": 98,
   "metadata": {},
   "outputs": [],
   "source": [
    "from credentials import s_key, ss_key"
   ]
  },
  {
   "cell_type": "code",
   "execution_count": 99,
   "metadata": {},
   "outputs": [],
   "source": [
    "def auth(key, sec):\n",
    "    \n",
    "    authorize = 'https://accounts.spotify.com/api/token'\n",
    "    param = {\n",
    "    \"Content-Type\": \"application/x-www-form-urlencoded\",\n",
    "    'grant_type' : 'client_credentials'\n",
    "    }\n",
    "    res = requests.post(authorize, auth = (s_key, ss_key), data = param)\n",
    "    token = res.json()['access_token']\n",
    "    \n",
    "    return token"
   ]
  },
  {
   "cell_type": "code",
   "execution_count": 100,
   "metadata": {},
   "outputs": [],
   "source": [
    "token = auth(s_key, ss_key)    "
   ]
  },
  {
   "cell_type": "code",
   "execution_count": 101,
   "metadata": {},
   "outputs": [],
   "source": [
    "def get_spotify(search):\n",
    "    spotify_info = {}\n",
    "    \n",
    "    token = auth(s_key, ss_key)\n",
    "    \n",
    "    try:\n",
    "\n",
    "        #Search parameters with the song plugged in\n",
    "        params = {\n",
    "        'q' : search,\n",
    "        'type': 'track',\n",
    "        'limit' : 5\n",
    "        }\n",
    "\n",
    "        #Header for authorization\n",
    "        header = {'Authorization' : f'Bearer {token}'}\n",
    "\n",
    "        #Search endpoint\n",
    "        spotify_search = 'https://api.spotify.com/v1/search'\n",
    "\n",
    "        #Make the request\n",
    "        res = requests.get(spotify_search, headers = header, params = params)\n",
    "        status = res.status_code\n",
    "\n",
    "        results = res.json()\n",
    "\n",
    "        spotify_info['Artist'] = results['tracks']['items'][0]['artists'][0]['name']\n",
    "        spotify_info['Song Title'] = results['tracks']['items'][0]['name']\n",
    "        uri = results['tracks']['items'][0]['id']\n",
    "        album_id = results['tracks']['items'][0]['album']['id']\n",
    "        embed = f'<iframe src=\"https://open.spotify.com/embed/album/{album_id}\" width=\"300\" height=\"380\" frameborder=\"0\" allowtransparency=\"true\" allow=\"encrypted-media\"></iframe>'\n",
    "    \n",
    "        res_2 = requests.get(f'https://api.spotify.com/v1/audio-features/{uri}', headers = header) \n",
    "    \n",
    "        results_2 = res_2.json()\n",
    "    \n",
    "        spotify_info['Spotify'] = 'Spotify Audio Features'\n",
    "        spotify_info['Danceeability'] = results_2['danceability']\n",
    "        spotify_info['Energy'] = results_2['energy']\n",
    "        spotify_info['Key'] = results_2['key']\n",
    "        spotify_info['Loudness'] = results_2['loudness']\n",
    "        spotify_info['Mode'] = results_2['mode']\n",
    "        spotify_info['Speechiness'] = results_2['speechiness']\n",
    "        spotify_info['Acousticness'] = results_2['acousticness']\n",
    "        spotify_info['Instrumentalness'] = results_2['instrumentalness']\n",
    "        spotify_info['Liveness'] = results_2['liveness']\n",
    "        spotify_info['Valence'] = results_2['valence']\n",
    "        spotify_info['Tempo'] = results_2['tempo']\n",
    "        spotify_info['Time Signature'] = results_2['time_signature']\n",
    "    \n",
    "    except:\n",
    "        return 'Could not find on Spotify.'\n",
    "            \n",
    "    spotify_df = pd.DataFrame([spotify_info])\n",
    "        \n",
    "    spotify_df.set_index('Spotify', inplace = True)\n",
    "\n",
    "    return spotify_df.T, embed"
   ]
  },
  {
   "cell_type": "code",
   "execution_count": 102,
   "metadata": {},
   "outputs": [],
   "source": [
    "params = {\n",
    "'q' : search_new,\n",
    "'type': 'track',\n",
    "'limit' : 5\n",
    "}\n",
    "\n",
    "#Header for authorization\n",
    "header = {'Authorization' : f'Bearer {token}'}\n",
    "\n",
    "#Search endpoint\n",
    "spotify_search = 'https://api.spotify.com/v1/search'\n",
    "\n",
    "#Make the request\n",
    "res = requests.get(spotify_search, headers = header, params = params)\n",
    "status = res.status_code\n",
    "\n",
    "results = res.json()"
   ]
  },
  {
   "cell_type": "code",
   "execution_count": 103,
   "metadata": {},
   "outputs": [
    {
     "data": {
      "text/plain": [
       "'7lxHnls3yQNl8B9bILmHj7'"
      ]
     },
     "execution_count": 103,
     "metadata": {},
     "output_type": "execute_result"
    }
   ],
   "source": [
    "results['tracks']['items'][0]['album']['id']"
   ]
  },
  {
   "cell_type": "code",
   "execution_count": 104,
   "metadata": {
    "scrolled": true
   },
   "outputs": [],
   "source": [
    "spotify, embed = get_spotify(search_new)"
   ]
  },
  {
   "cell_type": "code",
   "execution_count": 105,
   "metadata": {},
   "outputs": [
    {
     "data": {
      "text/plain": [
       "'<iframe src=\"https://open.spotify.com/embed/album/7lxHnls3yQNl8B9bILmHj7\" width=\"300\" height=\"380\" frameborder=\"0\" allowtransparency=\"true\" allow=\"encrypted-media\"></iframe>'"
      ]
     },
     "execution_count": 105,
     "metadata": {},
     "output_type": "execute_result"
    }
   ],
   "source": [
    "embed"
   ]
  },
  {
   "cell_type": "markdown",
   "metadata": {},
   "source": [
    "### Sync Score"
   ]
  },
  {
   "cell_type": "code",
   "execution_count": 106,
   "metadata": {},
   "outputs": [],
   "source": [
    "cvec = pickle.load(open('./model/cvec.pkl', 'rb'))\n",
    "rf = pickle.load(open('./model/rf.pkl', 'rb'))"
   ]
  },
  {
   "cell_type": "code",
   "execution_count": 107,
   "metadata": {},
   "outputs": [],
   "source": [
    "features = ['year', 'explicit', \n",
    "       'n_writers', 'n_pub', \n",
    "       's_dance', 's_energy', 's_key', 's_loudness', 's_mode',\n",
    "       's_speech', 's_acoustic', 's_inst', 's_live', 's_valence', 's_tempo',\n",
    "       's_time_sig']"
   ]
  },
  {
   "cell_type": "code",
   "execution_count": 108,
   "metadata": {},
   "outputs": [],
   "source": [
    "pred_df = {}\n",
    "pred_df['year'] = master.iloc[4, 0][:4]\n",
    "pred_df['explicit'] = int(master.iloc[5, 0])\n",
    "pred_df['n_writers'] = len(publishing.iloc[2, 0].split(','))\n",
    "pred_df['n_pub'] = len(publishing.iloc[3, 0].split(','))"
   ]
  },
  {
   "cell_type": "code",
   "execution_count": 109,
   "metadata": {},
   "outputs": [],
   "source": [
    "pred_df['s_dance'] = spotify.iloc[2, 0]\n",
    "pred_df['s_energy'] = spotify.iloc[3, 0]\n",
    "pred_df['s_key']= spotify.iloc[4, 0]\n",
    "pred_df['s_loudness']= spotify.iloc[5, 0]\n",
    "pred_df['s_mode']= spotify.iloc[6, 0]\n",
    "pred_df['s_speech']= spotify.iloc[7, 0]\n",
    "pred_df['s_acoustic']= spotify.iloc[8, 0]\n",
    "pred_df['s_inst']= spotify.iloc[9, 0]\n",
    "pred_df['s_live']= spotify.iloc[10, 0]\n",
    "pred_df['s_valence'] = spotify.iloc[11, 0]\n",
    "pred_df['s_tempo'] = spotify.iloc[12, 0]\n",
    "pred_df['s_time_sig'] = spotify.iloc[13, 0]"
   ]
  },
  {
   "cell_type": "code",
   "execution_count": 110,
   "metadata": {},
   "outputs": [
    {
     "data": {
      "text/html": [
       "<div>\n",
       "<style scoped>\n",
       "    .dataframe tbody tr th:only-of-type {\n",
       "        vertical-align: middle;\n",
       "    }\n",
       "\n",
       "    .dataframe tbody tr th {\n",
       "        vertical-align: top;\n",
       "    }\n",
       "\n",
       "    .dataframe thead th {\n",
       "        text-align: right;\n",
       "    }\n",
       "</style>\n",
       "<table border=\"1\" class=\"dataframe\">\n",
       "  <thead>\n",
       "    <tr style=\"text-align: right;\">\n",
       "      <th>Publishing</th>\n",
       "      <th>Publishing Info from Lyric Freak</th>\n",
       "    </tr>\n",
       "  </thead>\n",
       "  <tbody>\n",
       "    <tr>\n",
       "      <th>Album</th>\n",
       "      <td>Traveller</td>\n",
       "    </tr>\n",
       "    <tr>\n",
       "      <th>Composition Title</th>\n",
       "      <td>Tennessee Whiskey</td>\n",
       "    </tr>\n",
       "    <tr>\n",
       "      <th>Performed By</th>\n",
       "      <td>Chris Stapleton</td>\n",
       "    </tr>\n",
       "    <tr>\n",
       "      <th>Writers</th>\n",
       "      <td>Linda H Bartholomew, Dean Dillon</td>\n",
       "    </tr>\n",
       "    <tr>\n",
       "      <th>Publishers</th>\n",
       "      <td>Sony/ATV Music Publishing LLC, Universal Music...</td>\n",
       "    </tr>\n",
       "  </tbody>\n",
       "</table>\n",
       "</div>"
      ],
      "text/plain": [
       "Publishing                          Publishing Info from Lyric Freak\n",
       "Album                                                      Traveller\n",
       "Composition Title                                  Tennessee Whiskey\n",
       "Performed By                                         Chris Stapleton\n",
       "Writers                             Linda H Bartholomew, Dean Dillon\n",
       "Publishers         Sony/ATV Music Publishing LLC, Universal Music..."
      ]
     },
     "execution_count": 110,
     "metadata": {},
     "output_type": "execute_result"
    }
   ],
   "source": [
    "publishing"
   ]
  },
  {
   "cell_type": "code",
   "execution_count": 111,
   "metadata": {},
   "outputs": [],
   "source": [
    "pred_df['text'] = master.iloc[1, 0].lower() + \" \" + publishing.iloc[2, 0] + \" \" + publishing.iloc[3, 0]"
   ]
  },
  {
   "cell_type": "code",
   "execution_count": 112,
   "metadata": {},
   "outputs": [
    {
     "data": {
      "text/plain": [
       "'chris stapleton Chris Stapleton Linda H Bartholomew, Dean Dillon'"
      ]
     },
     "execution_count": 112,
     "metadata": {},
     "output_type": "execute_result"
    }
   ],
   "source": [
    "pred_df['text']"
   ]
  },
  {
   "cell_type": "code",
   "execution_count": 113,
   "metadata": {},
   "outputs": [],
   "source": [
    "to_predict = pd.DataFrame([pred_df])"
   ]
  },
  {
   "cell_type": "code",
   "execution_count": 114,
   "metadata": {},
   "outputs": [],
   "source": [
    "def sync_score(mast, pub, spot):\n",
    "    cvec = pickle.load(open('./model/cvec.pkl', 'rb'))\n",
    "    rf = pickle.load(open('./model/rf.pkl', 'rb'))\n",
    "    \n",
    "    \n",
    "    pred_df = {}\n",
    "    pred_df['year'] = mast.iloc[4, 0][:4]\n",
    "    pred_df['explicit'] = int(mast.iloc[5, 0])\n",
    "    pred_df['n_writers'] = len(pub.iloc[2, 0].split(','))\n",
    "    pred_df['n_pub'] = len(pub.iloc[3, 0].split(','))\n",
    "\n",
    "    \n",
    "    pred_df['s_dance'] = spot.iloc[2, 0]\n",
    "    pred_df['s_energy'] = spot.iloc[3, 0]\n",
    "    pred_df['s_key']= spot.iloc[4, 0]\n",
    "    pred_df['s_loudness']= spot.iloc[5, 0]\n",
    "    pred_df['s_mode']= spot.iloc[6, 0]\n",
    "    pred_df['s_speech']= spot.iloc[7, 0]\n",
    "    pred_df['s_acoustic']= spot.iloc[8, 0]\n",
    "    pred_df['s_inst']= spot.iloc[9, 0]\n",
    "    pred_df['s_live']= spot.iloc[10, 0]\n",
    "    pred_df['s_valence'] = spot.iloc[11, 0]\n",
    "    pred_df['s_tempo'] = spot.iloc[12, 0]\n",
    "    pred_df['s_time_sig'] = spot.iloc[13, 0]\n",
    "    \n",
    "    pred_df['text'] = mast.iloc[1, 0].lower() + \" \" + pub.iloc[2, 0] + \" \" + pub.iloc[3, 0]\n",
    "    \n",
    "    to_predict = pd.DataFrame([pred_df])\n",
    "    vec = cvec.transform(to_predict['text'])\n",
    "    x_text = pd.DataFrame(vec.toarray(),\n",
    "                 columns=cvec.get_feature_names())\n",
    "    X = pd.concat([x_text, to_predict[features]], axis = 1)\n",
    "    score =  rf.predict_proba(X)[0][1]\n",
    "    \n",
    "    if score >= .50:\n",
    "        return 'Syncable'\n",
    "    \n",
    "    else:\n",
    "        return 'Not very syncable'"
   ]
  },
  {
   "cell_type": "code",
   "execution_count": 115,
   "metadata": {},
   "outputs": [],
   "source": [
    "test = 'not'"
   ]
  },
  {
   "cell_type": "code",
   "execution_count": 116,
   "metadata": {},
   "outputs": [
    {
     "data": {
      "text/plain": [
       "True"
      ]
     },
     "execution_count": 116,
     "metadata": {},
     "output_type": "execute_result"
    }
   ],
   "source": [
    "type(test) == str"
   ]
  },
  {
   "cell_type": "code",
   "execution_count": 117,
   "metadata": {},
   "outputs": [],
   "source": [
    "def get_all(artist, title):\n",
    "    master = gather_deezer(title, artist)\n",
    "    if type(master) != str:\n",
    "        title = master.iloc[0, 0].lower()\n",
    "        artist = master.iloc[1, 0].lower()\n",
    "        title_display = master.iloc[0, 0]\n",
    "        artist_display = master.iloc[1, 0]\n",
    "        search_new = title + ' ' + artist\n",
    "        \n",
    "        genius_lyrics = gather_genius(search_new)\n",
    "        \n",
    "        publishing = gather_lyricfreak(search_new)\n",
    "    \n",
    "        spotify, embed = get_spotify(search_new)\n",
    "    \n",
    "        if (type(publishing != str)) and (type(spotify != str)):\n",
    "            score = sync_score(master, publishing, spotify)\n",
    "        else:\n",
    "            score = 'Not enough info for Sync Score'\n",
    "    \n",
    "    else:\n",
    "        return master\n",
    "    \n",
    "    \n",
    "    return title_display, artist_display, master, publishing, genius_lyrics, spotify, score, embed"
   ]
  },
  {
   "cell_type": "code",
   "execution_count": 143,
   "metadata": {},
   "outputs": [
    {
     "name": "stdout",
     "output_type": "stream",
     "text": [
      "CPU times: user 204 ms, sys: 29.5 ms, total: 233 ms\n",
      "Wall time: 4.73 s\n"
     ]
    }
   ],
   "source": [
    "%%time\n",
    "title_display, artist_display, master, publishing, genius_lyrics, spotify, score, embed = get_all('Tones and I', 'Dance Monkey')"
   ]
  },
  {
   "cell_type": "code",
   "execution_count": 144,
   "metadata": {},
   "outputs": [
    {
     "data": {
      "text/plain": [
       "\"<div id='rg_embed_link_4539729' class='rg_embed_link' data-song-id='4539729'>Read <a href='https://genius.com/Tones-and-i-dance-monkey-lyrics'>“Dance Monkey” by Tones\\xa0and I</a> on Genius</div> <script crossorigin src='//genius.com/songs/4539729/embed.js'></script>\""
      ]
     },
     "execution_count": 144,
     "metadata": {},
     "output_type": "execute_result"
    }
   ],
   "source": [
    "genius_lyrics"
   ]
  },
  {
   "cell_type": "code",
   "execution_count": 145,
   "metadata": {},
   "outputs": [
    {
     "data": {
      "text/plain": [
       "'<iframe src=\"https://open.spotify.com/embed/album/0UywfDKYlyiu1b38DRrzYD\" width=\"300\" height=\"380\" frameborder=\"0\" allowtransparency=\"true\" allow=\"encrypted-media\"></iframe>'"
      ]
     },
     "execution_count": 145,
     "metadata": {},
     "output_type": "execute_result"
    }
   ],
   "source": [
    "embed"
   ]
  },
  {
   "cell_type": "code",
   "execution_count": 146,
   "metadata": {},
   "outputs": [
    {
     "data": {
      "text/plain": [
       "'Syncable'"
      ]
     },
     "execution_count": 146,
     "metadata": {},
     "output_type": "execute_result"
    }
   ],
   "source": [
    "score"
   ]
  },
  {
   "cell_type": "code",
   "execution_count": 147,
   "metadata": {},
   "outputs": [],
   "source": [
    "explicit_d = {False : 'No', True : 'Yes'}"
   ]
  },
  {
   "cell_type": "code",
   "execution_count": 153,
   "metadata": {},
   "outputs": [
    {
     "ename": "AttributeError",
     "evalue": "'bool' object has no attribute 'map'",
     "output_type": "error",
     "traceback": [
      "\u001b[0;31m---------------------------------------------------------------------------\u001b[0m",
      "\u001b[0;31mAttributeError\u001b[0m                            Traceback (most recent call last)",
      "\u001b[0;32m<ipython-input-153-1fdda1bf862a>\u001b[0m in \u001b[0;36m<module>\u001b[0;34m\u001b[0m\n\u001b[0;32m----> 1\u001b[0;31m \u001b[0mmaster\u001b[0m\u001b[0;34m.\u001b[0m\u001b[0miloc\u001b[0m\u001b[0;34m[\u001b[0m\u001b[0;36m5\u001b[0m\u001b[0;34m]\u001b[0m\u001b[0;34m[\u001b[0m\u001b[0;36m0\u001b[0m\u001b[0;34m]\u001b[0m\u001b[0;34m.\u001b[0m\u001b[0mmap\u001b[0m\u001b[0;34m(\u001b[0m\u001b[0mexplicit_d\u001b[0m\u001b[0;34m)\u001b[0m\u001b[0;34m\u001b[0m\u001b[0;34m\u001b[0m\u001b[0m\n\u001b[0m",
      "\u001b[0;31mAttributeError\u001b[0m: 'bool' object has no attribute 'map'"
     ]
    }
   ],
   "source": [
    "master.iloc[5][0].map(explicit_d)"
   ]
  },
  {
   "cell_type": "code",
   "execution_count": 149,
   "metadata": {},
   "outputs": [
    {
     "ename": "AttributeError",
     "evalue": "'bool' object has no attribute 'map'",
     "output_type": "error",
     "traceback": [
      "\u001b[0;31m---------------------------------------------------------------------------\u001b[0m",
      "\u001b[0;31mAttributeError\u001b[0m                            Traceback (most recent call last)",
      "\u001b[0;32m<ipython-input-149-4fb848916a2e>\u001b[0m in \u001b[0;36m<module>\u001b[0;34m\u001b[0m\n\u001b[0;32m----> 1\u001b[0;31m \u001b[0mmaster\u001b[0m\u001b[0;34m.\u001b[0m\u001b[0miloc\u001b[0m\u001b[0;34m[\u001b[0m\u001b[0;36m5\u001b[0m\u001b[0;34m,\u001b[0m \u001b[0;36m0\u001b[0m\u001b[0;34m]\u001b[0m \u001b[0;34m=\u001b[0m \u001b[0mmaster\u001b[0m\u001b[0;34m.\u001b[0m\u001b[0miloc\u001b[0m\u001b[0;34m[\u001b[0m\u001b[0;36m5\u001b[0m\u001b[0;34m,\u001b[0m \u001b[0;36m0\u001b[0m\u001b[0;34m]\u001b[0m\u001b[0;34m.\u001b[0m\u001b[0mmap\u001b[0m\u001b[0;34m(\u001b[0m\u001b[0mexplicit_d\u001b[0m\u001b[0;34m)\u001b[0m\u001b[0;34m\u001b[0m\u001b[0;34m\u001b[0m\u001b[0m\n\u001b[0m",
      "\u001b[0;31mAttributeError\u001b[0m: 'bool' object has no attribute 'map'"
     ]
    }
   ],
   "source": [
    "master.iloc[5] = master.iloc[5, 0].map(explicit_d)"
   ]
  },
  {
   "cell_type": "code",
   "execution_count": 154,
   "metadata": {},
   "outputs": [
    {
     "data": {
      "text/plain": [
       "False"
      ]
     },
     "execution_count": 154,
     "metadata": {},
     "output_type": "execute_result"
    }
   ],
   "source": [
    "master.iloc[5, 0]"
   ]
  },
  {
   "cell_type": "code",
   "execution_count": 122,
   "metadata": {},
   "outputs": [
    {
     "data": {
      "text/plain": [
       "'<table border=\"1\" class=\"dataframe\">\\n  <thead>\\n    <tr style=\"text-align: right;\">\\n      <th>Master</th>\\n      <th>Master Info from Deezer</th>\\n    </tr>\\n  </thead>\\n  <tbody>\\n    <tr>\\n      <th>Recording Title</th>\\n      <td>Dance Monkey</td>\\n    </tr>\\n    <tr>\\n      <th>Artist</th>\\n      <td>Tones and I</td>\\n    </tr>\\n    <tr>\\n      <th>Album Title</th>\\n      <td>The Kids Are Coming</td>\\n    </tr>\\n    <tr>\\n      <th>ISRC</th>\\n      <td>QZES71982312</td>\\n    </tr>\\n    <tr>\\n      <th>Release Date</th>\\n      <td>2019-08-29</td>\\n    </tr>\\n    <tr>\\n      <th>Is Explicit?</th>\\n      <td>False</td>\\n    </tr>\\n    <tr>\\n      <th>BPM</th>\\n      <td>97.97</td>\\n    </tr>\\n    <tr>\\n      <th>Deezer Track ID</th>\\n      <td>739870792</td>\\n    </tr>\\n    <tr>\\n      <th>Link to Album on Deezer</th>\\n      <td>https://www.deezer.com/album/108770322</td>\\n    </tr>\\n    <tr>\\n      <th>Album Art</th>\\n      <td>https://cdns-images.dzcdn.net/images/cover/5636a569737f8dad9a928f3d907c493a/250x250-000000-80-0-0.jpg</td>\\n    </tr>\\n  </tbody>\\n</table>'"
      ]
     },
     "execution_count": 122,
     "metadata": {},
     "output_type": "execute_result"
    }
   ],
   "source": [
    "master.to_html()"
   ]
  },
  {
   "cell_type": "code",
   "execution_count": 123,
   "metadata": {},
   "outputs": [
    {
     "data": {
      "text/plain": [
       "'<table border=\"1\" class=\"dataframe\">\\n  <thead>\\n    <tr style=\"text-align: right;\">\\n      <th>Publishing</th>\\n      <th>Publishing Info from Lyric Freak</th>\\n    </tr>\\n  </thead>\\n  <tbody>\\n    <tr>\\n      <th>Composition Title</th>\\n      <td>Dance Monkey</td>\\n    </tr>\\n    <tr>\\n      <th>Performed By</th>\\n      <td>Tones And I</td>\\n    </tr>\\n    <tr>\\n      <th>Writers</th>\\n      <td>Toni Watson</td>\\n    </tr>\\n    <tr>\\n      <th>Publishers</th>\\n      <td>Warner Chappell Music</td>\\n    </tr>\\n  </tbody>\\n</table>'"
      ]
     },
     "execution_count": 123,
     "metadata": {},
     "output_type": "execute_result"
    }
   ],
   "source": [
    "publishing.to_html()"
   ]
  },
  {
   "cell_type": "code",
   "execution_count": null,
   "metadata": {},
   "outputs": [],
   "source": []
  }
 ],
 "metadata": {
  "kernelspec": {
   "display_name": "Python 3",
   "language": "python",
   "name": "python3"
  },
  "language_info": {
   "codemirror_mode": {
    "name": "ipython",
    "version": 3
   },
   "file_extension": ".py",
   "mimetype": "text/x-python",
   "name": "python",
   "nbconvert_exporter": "python",
   "pygments_lexer": "ipython3",
   "version": "3.7.6"
  }
 },
 "nbformat": 4,
 "nbformat_minor": 4
}
