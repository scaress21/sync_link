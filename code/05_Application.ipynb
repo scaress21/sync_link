{
 "cells": [
  {
   "cell_type": "markdown",
   "metadata": {},
   "source": [
    "# Sync Link\n",
    "### Part 5: Application"
   ]
  },
  {
   "cell_type": "code",
   "execution_count": 39,
   "metadata": {},
   "outputs": [],
   "source": [
    "import pandas as pd\n",
    "import numpy as np\n",
    "import requests\n",
    "from bs4 import BeautifulSoup\n",
    "import pickle\n",
    "import musicbrainzngs"
   ]
  },
  {
   "cell_type": "code",
   "execution_count": 2,
   "metadata": {},
   "outputs": [],
   "source": [
    "title = 'Tennessee Whiskey'\n",
    "artist = 'Chris Stapleton'\n",
    "search_test = title.lower() + ' ' + artist.lower()"
   ]
  },
  {
   "cell_type": "code",
   "execution_count": 3,
   "metadata": {},
   "outputs": [
    {
     "data": {
      "text/plain": [
       "'tennessee whiskey chris stapleton'"
      ]
     },
     "execution_count": 3,
     "metadata": {},
     "output_type": "execute_result"
    }
   ],
   "source": [
    "search_test"
   ]
  },
  {
   "cell_type": "markdown",
   "metadata": {},
   "source": [
    "### Deezer (Master)"
   ]
  },
  {
   "cell_type": "code",
   "execution_count": 4,
   "metadata": {},
   "outputs": [],
   "source": [
    "deez_url = f'https://api.deezer.com/search?q=artist:\\\"{artist}\\\" track:\\\"{title}\\\"'\n",
    "deezer_q = requests.get(deez_url)\n",
    "track = str(deezer_q.json()['data'][0]['id'])\n",
    "\n",
    "deezer_track = requests.get('https://api.deezer.com/track/' + track)\n",
    "data = deezer_track.json()"
   ]
  },
  {
   "cell_type": "code",
   "execution_count": 5,
   "metadata": {},
   "outputs": [
    {
     "data": {
      "text/plain": [
       "'Mercury Nashville'"
      ]
     },
     "execution_count": 5,
     "metadata": {},
     "output_type": "execute_result"
    }
   ],
   "source": [
    "al = str(data['album']['id'])\n",
    "deezer_album = requests.get('https://api.deezer.com/album/' + al)\n",
    "album = deezer_album.json()\n",
    "album['upc']\n",
    "album['label']"
   ]
  },
  {
   "cell_type": "code",
   "execution_count": 6,
   "metadata": {},
   "outputs": [],
   "source": [
    "def gather_deezer(song_s, artist_s):\n",
    "        master_info = {}\n",
    "        try:\n",
    "            \n",
    "            deez_url = f'https://api.deezer.com/search?q=artist:\\\"{artist_s}\\\" track:\\\"{song_s}\\\"'\n",
    "            deezer_q = requests.get(deez_url)\n",
    "            track = str(deezer_q.json()['data'][0]['id'])\n",
    "\n",
    "            deezer_track = requests.get('https://api.deezer.com/track/' + track)\n",
    "            data = deezer_track.json()\n",
    "\n",
    "            \n",
    "            master_info['Master'] = 'Master Info from Deezer'\n",
    "            master_info['Recording Title'] = data['title']\n",
    "            master_info['Artist'] = data['artist']['name']\n",
    "            master_info['Album Title'] = data['album']['title']\n",
    "            master_info['ISRC'] =  data['isrc']\n",
    "            master_info['Release Date'] = data['release_date']\n",
    "            master_info['Is Explicit?']= data['explicit_lyrics']\n",
    "            master_info['BPM'] = data['bpm']\n",
    "            master_info['Deezer Track ID'] = data['id']\n",
    "            al = str(data['album']['id'])\n",
    "            deezer_album = requests.get('https://api.deezer.com/album/' + al)\n",
    "            album = deezer_album.json()\n",
    "            master_info['Album UPC'] = album['upc']\n",
    "            master_info['Label'] = album['label']\n",
    "            master_info['Link to Album on Deezer'] = data['album']['link']\n",
    "            \n",
    "           \n",
    "            master_info['Album Art']= data['album']['cover_medium']\n",
    "            \n",
    "           \n",
    "        \n",
    "        except:\n",
    "            print(f'Could not find on Deezer.')\n",
    "    \n",
    "        master_df = pd.DataFrame([master_info])\n",
    "        \n",
    "        master_df.set_index('Master', inplace = True)\n",
    "       \n",
    "        \n",
    "        return master_df.T"
   ]
  },
  {
   "cell_type": "code",
   "execution_count": 7,
   "metadata": {},
   "outputs": [],
   "source": [
    "master = gather_deezer(title, artist)"
   ]
  },
  {
   "cell_type": "code",
   "execution_count": 8,
   "metadata": {},
   "outputs": [
    {
     "data": {
      "text/html": [
       "<div>\n",
       "<style scoped>\n",
       "    .dataframe tbody tr th:only-of-type {\n",
       "        vertical-align: middle;\n",
       "    }\n",
       "\n",
       "    .dataframe tbody tr th {\n",
       "        vertical-align: top;\n",
       "    }\n",
       "\n",
       "    .dataframe thead th {\n",
       "        text-align: right;\n",
       "    }\n",
       "</style>\n",
       "<table border=\"1\" class=\"dataframe\">\n",
       "  <thead>\n",
       "    <tr style=\"text-align: right;\">\n",
       "      <th>Master</th>\n",
       "      <th>Master Info from Deezer</th>\n",
       "    </tr>\n",
       "  </thead>\n",
       "  <tbody>\n",
       "    <tr>\n",
       "      <th>Recording Title</th>\n",
       "      <td>Tennessee Whiskey</td>\n",
       "    </tr>\n",
       "    <tr>\n",
       "      <th>Artist</th>\n",
       "      <td>Chris Stapleton</td>\n",
       "    </tr>\n",
       "    <tr>\n",
       "      <th>Album Title</th>\n",
       "      <td>Traveller</td>\n",
       "    </tr>\n",
       "    <tr>\n",
       "      <th>ISRC</th>\n",
       "      <td>USUM71418088</td>\n",
       "    </tr>\n",
       "    <tr>\n",
       "      <th>Release Date</th>\n",
       "      <td>2015-05-04</td>\n",
       "    </tr>\n",
       "    <tr>\n",
       "      <th>Is Explicit?</th>\n",
       "      <td>False</td>\n",
       "    </tr>\n",
       "    <tr>\n",
       "      <th>BPM</th>\n",
       "      <td>152</td>\n",
       "    </tr>\n",
       "    <tr>\n",
       "      <th>Deezer Track ID</th>\n",
       "      <td>98975170</td>\n",
       "    </tr>\n",
       "    <tr>\n",
       "      <th>Album UPC</th>\n",
       "      <td>602547273123</td>\n",
       "    </tr>\n",
       "    <tr>\n",
       "      <th>Label</th>\n",
       "      <td>Mercury Nashville</td>\n",
       "    </tr>\n",
       "    <tr>\n",
       "      <th>Link to Album on Deezer</th>\n",
       "      <td>https://www.deezer.com/album/10127538</td>\n",
       "    </tr>\n",
       "    <tr>\n",
       "      <th>Album Art</th>\n",
       "      <td>https://e-cdns-images.dzcdn.net/images/cover/1...</td>\n",
       "    </tr>\n",
       "  </tbody>\n",
       "</table>\n",
       "</div>"
      ],
      "text/plain": [
       "Master                                             Master Info from Deezer\n",
       "Recording Title                                          Tennessee Whiskey\n",
       "Artist                                                     Chris Stapleton\n",
       "Album Title                                                      Traveller\n",
       "ISRC                                                          USUM71418088\n",
       "Release Date                                                    2015-05-04\n",
       "Is Explicit?                                                         False\n",
       "BPM                                                                    152\n",
       "Deezer Track ID                                                   98975170\n",
       "Album UPC                                                     602547273123\n",
       "Label                                                    Mercury Nashville\n",
       "Link to Album on Deezer              https://www.deezer.com/album/10127538\n",
       "Album Art                https://e-cdns-images.dzcdn.net/images/cover/1..."
      ]
     },
     "execution_count": 8,
     "metadata": {},
     "output_type": "execute_result"
    }
   ],
   "source": [
    "master"
   ]
  },
  {
   "cell_type": "code",
   "execution_count": 9,
   "metadata": {},
   "outputs": [],
   "source": [
    "title = master.iloc[0, 0].lower()\n",
    "artist = master.iloc[1, 0].lower()\n",
    "search_new = title + ' ' + artist"
   ]
  },
  {
   "cell_type": "code",
   "execution_count": 10,
   "metadata": {},
   "outputs": [
    {
     "data": {
      "text/plain": [
       "'tennessee whiskey chris stapleton'"
      ]
     },
     "execution_count": 10,
     "metadata": {},
     "output_type": "execute_result"
    }
   ],
   "source": [
    "search_new"
   ]
  },
  {
   "cell_type": "markdown",
   "metadata": {},
   "source": [
    "### Musixmatch (Publishing)"
   ]
  },
  {
   "cell_type": "code",
   "execution_count": 11,
   "metadata": {},
   "outputs": [],
   "source": [
    "from credentials import mx_key"
   ]
  },
  {
   "cell_type": "code",
   "execution_count": 33,
   "metadata": {},
   "outputs": [],
   "source": [
    "mx_track_search = 'https://api.musixmatch.com/ws/1.1/matcher.lyrics.get?track_isrc=USUM71418088'\n",
    "\n",
    "params = {\n",
    "            'apikey' : mx_key,\n",
    "#             'q_track' : 'Don\\'t Start Now',\n",
    "#              'q_artist' : 'Dua Lipa',\n",
    "#              's_track_release_date' : 'ASC'\n",
    "                }\n",
    "\n",
    "res = requests.get(mx_track_search, params)\n"
   ]
  },
  {
   "cell_type": "code",
   "execution_count": 43,
   "metadata": {},
   "outputs": [],
   "source": [
    "musicbrainzngs.set_useragent('sync_link', '1.0', contact='synclink.io')"
   ]
  },
  {
   "cell_type": "code",
   "execution_count": 143,
   "metadata": {},
   "outputs": [],
   "source": [
    "result = musicbrainzngs.get_recordings_by_isrc('USUM71418088')"
   ]
  },
  {
   "cell_type": "code",
   "execution_count": 149,
   "metadata": {},
   "outputs": [
    {
     "data": {
      "text/plain": [
       "'a6f69eb9-da2e-4b4e-ab78-69fa9f75d6b6'"
      ]
     },
     "execution_count": 149,
     "metadata": {},
     "output_type": "execute_result"
    }
   ],
   "source": [
    "result['isrc']['recording-list'][0]['id']"
   ]
  },
  {
   "cell_type": "code",
   "execution_count": 156,
   "metadata": {},
   "outputs": [],
   "source": [
    "result = musicbrainzngs.get_recording_by_id('a6f69eb9-da2e-4b4e-ab78-69fa9f75d6b6', includes=['work-level-rels', 'work-rels'],)\n",
    "\n",
    "\n",
    "\n"
   ]
  },
  {
   "cell_type": "code",
   "execution_count": 157,
   "metadata": {},
   "outputs": [
    {
     "data": {
      "text/plain": [
       "'f49f4178-e697-45a1-b62e-16fba93fb0cc'"
      ]
     },
     "execution_count": 157,
     "metadata": {},
     "output_type": "execute_result"
    }
   ],
   "source": [
    "result['recording']['work-relation-list'][0]['work']['id']"
   ]
  },
  {
   "cell_type": "code",
   "execution_count": 160,
   "metadata": {},
   "outputs": [
    {
     "data": {
      "text/plain": [
       "'Tennessee Whiskey'"
      ]
     },
     "execution_count": 160,
     "metadata": {},
     "output_type": "execute_result"
    }
   ],
   "source": [
    "result['recording']['title']"
   ]
  },
  {
   "cell_type": "code",
   "execution_count": 150,
   "metadata": {},
   "outputs": [],
   "source": [
    "result = musicbrainzngs.get_work_by_id('f49f4178-e697-45a1-b62e-16fba93fb0cc',\n",
    "                                      includes=['annotation', 'aliases', \n",
    "                                               'artist-rels', 'label-rels',  'work-rels'])\n"
   ]
  },
  {
   "cell_type": "code",
   "execution_count": 151,
   "metadata": {},
   "outputs": [],
   "source": [
    "writer = []\n",
    "for i in result['work']['artist-relation-list']:\n",
    "    if i['type'] == 'writer':\n",
    "        writer.append(i['artist']['name'])"
   ]
  },
  {
   "cell_type": "code",
   "execution_count": 152,
   "metadata": {},
   "outputs": [
    {
     "data": {
      "text/plain": [
       "['Dean Dillon', 'Linda Hargrove']"
      ]
     },
     "execution_count": 152,
     "metadata": {},
     "output_type": "execute_result"
    }
   ],
   "source": [
    "writer"
   ]
  },
  {
   "cell_type": "code",
   "execution_count": 153,
   "metadata": {},
   "outputs": [],
   "source": [
    "pub = []\n",
    "for i in result['work']['label-relation-list']:\n",
    "    if i['type'] == 'publishing':\n",
    "        pub.append(i['label']['name'])"
   ]
  },
  {
   "cell_type": "code",
   "execution_count": 154,
   "metadata": {},
   "outputs": [
    {
     "data": {
      "text/plain": [
       "['EMI Algee Music Corp.', 'Universal‐Songs of PolyGram International, Inc.']"
      ]
     },
     "execution_count": 154,
     "metadata": {},
     "output_type": "execute_result"
    }
   ],
   "source": [
    "pub"
   ]
  },
  {
   "cell_type": "code",
   "execution_count": 131,
   "metadata": {},
   "outputs": [
    {
     "data": {
      "text/plain": [
       "{'work': {'id': 'f49f4178-e697-45a1-b62e-16fba93fb0cc',\n",
       "  'type': 'Song',\n",
       "  'title': 'Tennessee Whiskey',\n",
       "  'language': 'eng',\n",
       "  'attribute-list': [{'attribute': 'BMI ID', 'value': '1472421'}],\n",
       "  'artist-relation-list': [{'type': 'writer',\n",
       "    'type-id': 'a255bca1-b157-4518-9108-7b147dc3fc68',\n",
       "    'target': 'fdb4cb37-d38c-49bb-afad-485cbed17950',\n",
       "    'direction': 'backward',\n",
       "    'artist': {'id': 'fdb4cb37-d38c-49bb-afad-485cbed17950',\n",
       "     'type': 'Person',\n",
       "     'name': 'Dean Dillon',\n",
       "     'sort-name': 'Dillon, Dean'},\n",
       "    'target-credit': 'Dean Rutherford'},\n",
       "   {'type': 'writer',\n",
       "    'type-id': 'a255bca1-b157-4518-9108-7b147dc3fc68',\n",
       "    'target': '0ac020b1-5763-4310-9849-d5d531c25753',\n",
       "    'direction': 'backward',\n",
       "    'artist': {'id': '0ac020b1-5763-4310-9849-d5d531c25753',\n",
       "     'type': 'Person',\n",
       "     'name': 'Linda Hargrove',\n",
       "     'sort-name': 'Hargrove, Linda'}}],\n",
       "  'label-relation-list': [{'type': 'publishing',\n",
       "    'type-id': '05ee6f18-4517-342d-afdf-5897f64276e3',\n",
       "    'target': 'b9b3758c-e4db-4bfe-9d39-9cc389083ddb',\n",
       "    'direction': 'backward',\n",
       "    'label': {'id': 'b9b3758c-e4db-4bfe-9d39-9cc389083ddb',\n",
       "     'type': 'Publisher',\n",
       "     'name': 'EMI Algee Music Corp.',\n",
       "     'sort-name': 'EMI Algee Music Corp.'}},\n",
       "   {'type': 'publishing',\n",
       "    'type-id': '05ee6f18-4517-342d-afdf-5897f64276e3',\n",
       "    'target': 'be763f33-814c-48a6-8bcb-596f7cccb930',\n",
       "    'direction': 'backward',\n",
       "    'label': {'id': 'be763f33-814c-48a6-8bcb-596f7cccb930',\n",
       "     'type': 'Publisher',\n",
       "     'name': 'Universal‐Songs of PolyGram International, Inc.',\n",
       "     'sort-name': 'Universal‐Songs of PolyGram International, Inc.'}}],\n",
       "  'recording-relation-list': [{'type': 'performance',\n",
       "    'type-id': 'a3005666-a872-32c3-ad06-98af558e99b0',\n",
       "    'target': '6a9ea4e4-75a3-4090-8dbe-52f057cb392f',\n",
       "    'direction': 'backward',\n",
       "    'attribute-list': ['cover'],\n",
       "    'recording': {'id': '6a9ea4e4-75a3-4090-8dbe-52f057cb392f',\n",
       "     'title': 'Tennessee Whiskey',\n",
       "     'length': '269000'},\n",
       "    'attributes': [{'type-id': '1e8536bd-6eda-3822-8e78-1c0f4d3d2113',\n",
       "      'attribute': 'cover'}]},\n",
       "   {'type': 'performance',\n",
       "    'type-id': 'a3005666-a872-32c3-ad06-98af558e99b0',\n",
       "    'target': 'a6f69eb9-da2e-4b4e-ab78-69fa9f75d6b6',\n",
       "    'direction': 'backward',\n",
       "    'attribute-list': ['cover'],\n",
       "    'recording': {'id': 'a6f69eb9-da2e-4b4e-ab78-69fa9f75d6b6',\n",
       "     'title': 'Tennessee Whiskey',\n",
       "     'length': '293000'},\n",
       "    'attributes': [{'type-id': '1e8536bd-6eda-3822-8e78-1c0f4d3d2113',\n",
       "      'attribute': 'cover'}]},\n",
       "   {'type': 'performance',\n",
       "    'type-id': 'a3005666-a872-32c3-ad06-98af558e99b0',\n",
       "    'target': 'edb78d56-852c-4e9e-8602-b33f852a8e31',\n",
       "    'direction': 'backward',\n",
       "    'attribute-list': ['cover', 'live'],\n",
       "    'recording': {'id': 'edb78d56-852c-4e9e-8602-b33f852a8e31',\n",
       "     'title': 'Tennessee Whiskey (The Voice Performance)',\n",
       "     'length': '182000'},\n",
       "    'attributes': [{'type-id': '1e8536bd-6eda-3822-8e78-1c0f4d3d2113',\n",
       "      'attribute': 'cover'},\n",
       "     {'type-id': '70007db6-a8bc-46d7-a770-80e6a0bb551a',\n",
       "      'attribute': 'live'}]},\n",
       "   {'type': 'performance',\n",
       "    'type-id': 'a3005666-a872-32c3-ad06-98af558e99b0',\n",
       "    'target': 'fbd77897-3aae-4249-8941-04a2e7655361',\n",
       "    'direction': 'backward',\n",
       "    'attribute-list': ['cover', 'live'],\n",
       "    'recording': {'id': 'fbd77897-3aae-4249-8941-04a2e7655361',\n",
       "     'title': 'Tennessee Whiskey (The Voice Performance)',\n",
       "     'length': '197365'},\n",
       "    'attributes': [{'type-id': '1e8536bd-6eda-3822-8e78-1c0f4d3d2113',\n",
       "      'attribute': 'cover'},\n",
       "     {'type-id': '70007db6-a8bc-46d7-a770-80e6a0bb551a',\n",
       "      'attribute': 'live'}]}],\n",
       "  'url-relation-list': [{'type': 'wikidata',\n",
       "    'type-id': '587fdd8f-080e-46a9-97af-6425ebbcb3a2',\n",
       "    'target': 'https://www.wikidata.org/wiki/Q3518110',\n",
       "    'direction': 'backward'}]}}"
      ]
     },
     "execution_count": 131,
     "metadata": {},
     "output_type": "execute_result"
    }
   ],
   "source": [
    "result"
   ]
  },
  {
   "cell_type": "code",
   "execution_count": 134,
   "metadata": {},
   "outputs": [],
   "source": [
    "res = requests.get('https://musicbrainz.org/ws/2/work/f49f4178-e697-45a1-b62e-16fba93fb0cc?fmt=json')"
   ]
  },
  {
   "cell_type": "code",
   "execution_count": 137,
   "metadata": {},
   "outputs": [
    {
     "data": {
      "text/plain": [
       "[]"
      ]
     },
     "execution_count": 137,
     "metadata": {},
     "output_type": "execute_result"
    }
   ],
   "source": [
    "res.json()['iswcs']"
   ]
  },
  {
   "cell_type": "code",
   "execution_count": null,
   "metadata": {},
   "outputs": [],
   "source": []
  },
  {
   "cell_type": "code",
   "execution_count": null,
   "metadata": {},
   "outputs": [],
   "source": []
  },
  {
   "cell_type": "markdown",
   "metadata": {},
   "source": [
    "### Lyric Freak (Publishing)"
   ]
  },
  {
   "cell_type": "code",
   "execution_count": 37,
   "metadata": {},
   "outputs": [],
   "source": [
    "def clean_title(song):\n",
    "    song = song.replace('About', '').replace('Lyrics', '').replace('lyrics', '')\n",
    "    try:\n",
    "        song = song.split('–')[1]\n",
    "    except:\n",
    "        pass\n",
    "    song = song.strip()\n",
    "    return song"
   ]
  },
  {
   "cell_type": "code",
   "execution_count": 38,
   "metadata": {},
   "outputs": [],
   "source": [
    "def clean_pub(string):\n",
    "    try:\n",
    "        string = string.split('©')[1]\n",
    "        string = string.split('Lyrics')[0]\n",
    "        if ', Inc.' in string:\n",
    "            string = string.replace(', Inc.', '')\n",
    "        if '\\\\n' in string:\n",
    "            string = string.replace('\\\\n', '')  \n",
    "    except:\n",
    "        pass\n",
    "    return string.strip()"
   ]
  },
  {
   "cell_type": "code",
   "execution_count": 39,
   "metadata": {},
   "outputs": [],
   "source": [
    "def gather_lyricfreak(search):\n",
    "    pub_info = {}\n",
    "    \n",
    "    try:\n",
    "        base = 'https://www.lyricsfreak.com/search.php?q='\n",
    "        query = search.replace('-', '').replace(' ', '%20')\n",
    "        res = requests.get(base + query)\n",
    "        soup = BeautifulSoup(res.content, 'lxml')\n",
    "        song = soup.find('a', {'class': 'song'})\n",
    "        url = song['href']\n",
    "    \n",
    "        res_2 = requests.get('https://www.lyricsfreak.com' + url)\n",
    "        soup_2 = BeautifulSoup(res_2.content, 'lxml')\n",
    "    \n",
    "        title = soup_2.find('h2').text\n",
    "        artist = soup_2.find('a', {'class' : 'song-page-conthead-link'}).text\n",
    "\n",
    "\n",
    "        writer_pub = soup_2.find_all('div', {'class' : 'meta_l'})\n",
    "        writer = writer_pub[0].text\n",
    "        pub = writer_pub[1].text\n",
    "\n",
    "        if  soup_2.find('div', {'class' : 'lf-hero__subtitle'}):\n",
    "            album = soup_2.find('div', {'class' : 'lf-hero__subtitle'}).text \n",
    "            pub_info['Album'] = album.split('album:\\n')[1].strip().split(' ')[0]\n",
    "\n",
    "        #Putting it into the dictionary\n",
    "        pub_info['Publishing'] = 'Publishing Info from Lyric Freak'\n",
    "        pub_info['Composition Title'] = clean_title(title)\n",
    "        pub_info['Performed By'] = artist\n",
    "        pub_info['Writers'] = writer.replace('Songwriters: ', '')\n",
    "        pub_info['Publishers'] = clean_pub(pub)\n",
    "        \n",
    "        pub_df = pd.DataFrame([pub_info])\n",
    "        \n",
    "        pub_df.set_index('Publishing', inplace = True)\n",
    "        \n",
    "        return pub_df.T\n",
    "    \n",
    "    except:\n",
    "        return f'Could not find on Lyric Freak.' "
   ]
  },
  {
   "cell_type": "code",
   "execution_count": 40,
   "metadata": {},
   "outputs": [],
   "source": [
    "publishing = gather_lyricfreak(search_new)"
   ]
  },
  {
   "cell_type": "code",
   "execution_count": 41,
   "metadata": {},
   "outputs": [
    {
     "data": {
      "text/html": [
       "<div>\n",
       "<style scoped>\n",
       "    .dataframe tbody tr th:only-of-type {\n",
       "        vertical-align: middle;\n",
       "    }\n",
       "\n",
       "    .dataframe tbody tr th {\n",
       "        vertical-align: top;\n",
       "    }\n",
       "\n",
       "    .dataframe thead th {\n",
       "        text-align: right;\n",
       "    }\n",
       "</style>\n",
       "<table border=\"1\" class=\"dataframe\">\n",
       "  <thead>\n",
       "    <tr style=\"text-align: right;\">\n",
       "      <th>Publishing</th>\n",
       "      <th>Publishing Info from Lyric Freak</th>\n",
       "    </tr>\n",
       "  </thead>\n",
       "  <tbody>\n",
       "    <tr>\n",
       "      <th>Album</th>\n",
       "      <td>Traveller</td>\n",
       "    </tr>\n",
       "    <tr>\n",
       "      <th>Composition Title</th>\n",
       "      <td>Tennessee Whiskey</td>\n",
       "    </tr>\n",
       "    <tr>\n",
       "      <th>Performed By</th>\n",
       "      <td>Chris Stapleton</td>\n",
       "    </tr>\n",
       "    <tr>\n",
       "      <th>Writers</th>\n",
       "      <td>Linda H Bartholomew, Dean Dillon</td>\n",
       "    </tr>\n",
       "    <tr>\n",
       "      <th>Publishers</th>\n",
       "      <td>Sony/ATV Music Publishing LLC, Universal Music...</td>\n",
       "    </tr>\n",
       "  </tbody>\n",
       "</table>\n",
       "</div>"
      ],
      "text/plain": [
       "Publishing                          Publishing Info from Lyric Freak\n",
       "Album                                                      Traveller\n",
       "Composition Title                                  Tennessee Whiskey\n",
       "Performed By                                         Chris Stapleton\n",
       "Writers                             Linda H Bartholomew, Dean Dillon\n",
       "Publishers         Sony/ATV Music Publishing LLC, Universal Music..."
      ]
     },
     "execution_count": 41,
     "metadata": {},
     "output_type": "execute_result"
    }
   ],
   "source": [
    "publishing"
   ]
  },
  {
   "cell_type": "markdown",
   "metadata": {},
   "source": [
    "### Genius (Lyrics)"
   ]
  },
  {
   "cell_type": "code",
   "execution_count": 42,
   "metadata": {},
   "outputs": [],
   "source": [
    "def gather_genius(search):\n",
    "    from credentials import genius\n",
    "    header = {'Authorization' : f'Bearer {genius}'}\n",
    "    \n",
    "    res = requests.get('https://api.genius.com/search?q=' + search, headers = header)\n",
    "    \n",
    "    \n",
    "    song = res.json()['response']['hits'][0]['result']['api_path']\n",
    "    res2 = requests.get('https://api.genius.com' + song, headers = header)\n",
    "    embed = res2.json()['response']['song']['embed_content']\n",
    "    \n",
    "    return embed"
   ]
  },
  {
   "cell_type": "code",
   "execution_count": 43,
   "metadata": {},
   "outputs": [],
   "source": [
    "genius_lyrics = gather_genius(search_new)"
   ]
  },
  {
   "cell_type": "markdown",
   "metadata": {},
   "source": [
    "### Spotify (Song Features)"
   ]
  },
  {
   "cell_type": "code",
   "execution_count": 44,
   "metadata": {},
   "outputs": [],
   "source": [
    "\n"
   ]
  },
  {
   "cell_type": "code",
   "execution_count": 45,
   "metadata": {},
   "outputs": [],
   "source": [
    "def auth(key, sec):\n",
    "    \n",
    "    authorize = 'https://accounts.spotify.com/api/token'\n",
    "    param = {\n",
    "    \"Content-Type\": \"application/x-www-form-urlencoded\",\n",
    "    'grant_type' : 'client_credentials'\n",
    "    }\n",
    "    res = requests.post(authorize, auth = (s_key, ss_key), data = param)\n",
    "    token = res.json()['access_token']\n",
    "    \n",
    "    return token"
   ]
  },
  {
   "cell_type": "code",
   "execution_count": 46,
   "metadata": {},
   "outputs": [],
   "source": [
    "token = auth(s_key, ss_key)    "
   ]
  },
  {
   "cell_type": "code",
   "execution_count": 129,
   "metadata": {},
   "outputs": [],
   "source": [
    "def get_spotify(search):\n",
    "    spotify_info = {}\n",
    "    \n",
    "    token = auth(s_key, ss_key)\n",
    "    \n",
    "    try:\n",
    "\n",
    "        #Search parameters with the song plugged in\n",
    "        params = {\n",
    "        'q' : search,\n",
    "        'type': 'track',\n",
    "        'limit' : 5\n",
    "        }\n",
    "\n",
    "        #Header for authorization\n",
    "        header = {'Authorization' : f'Bearer {token}'}\n",
    "\n",
    "        #Search endpoint\n",
    "        spotify_search = 'https://api.spotify.com/v1/search'\n",
    "\n",
    "        #Make the request\n",
    "        res = requests.get(spotify_search, headers = header, params = params)\n",
    "        status = res.status_code\n",
    "\n",
    "        results = res.json()\n",
    "\n",
    "        spotify_info['Artist'] = results['tracks']['items'][0]['artists'][0]['name']\n",
    "        spotify_info['Song Title'] = results['tracks']['items'][0]['name']\n",
    "        uri = results['tracks']['items'][0]['id']\n",
    "        album_id = results['tracks']['items'][0]['album']['id']\n",
    "        embed = f'<iframe src=\"https://open.spotify.com/embed/album/{album_id}\" width=\"300\" height=\"380\" frameborder=\"0\" allowtransparency=\"true\" allow=\"encrypted-media\"></iframe>'\n",
    "    \n",
    "        res_2 = requests.get(f'https://api.spotify.com/v1/audio-features/{uri}', headers = header) \n",
    "    \n",
    "        results_2 = res_2.json()\n",
    "    \n",
    "        spotify_info['Spotify'] = 'Spotify Audio Features'\n",
    "        spotify_info['Danceeability'] = results_2['danceability']\n",
    "        spotify_info['Energy'] = results_2['energy']\n",
    "        spotify_info['Key'] = results_2['key']\n",
    "        spotify_info['Loudness'] = results_2['loudness']\n",
    "        spotify_info['Mode'] = results_2['mode']\n",
    "        spotify_info['Speechiness'] = results_2['speechiness']\n",
    "        spotify_info['Acousticness'] = results_2['acousticness']\n",
    "        spotify_info['Instrumentalness'] = results_2['instrumentalness']\n",
    "        spotify_info['Liveness'] = results_2['liveness']\n",
    "        spotify_info['Valence'] = results_2['valence']\n",
    "        spotify_info['Tempo'] = results_2['tempo']\n",
    "        spotify_info['Time Signature'] = results_2['time_signature']\n",
    "    \n",
    "    except:\n",
    "        return 'Could not find on Spotify.'\n",
    "            \n",
    "    spotify_df = pd.DataFrame([spotify_info])\n",
    "        \n",
    "    spotify_df.set_index('Spotify', inplace = True)\n",
    "\n",
    "    return spotify_df.T, embed"
   ]
  },
  {
   "cell_type": "code",
   "execution_count": 130,
   "metadata": {},
   "outputs": [],
   "source": [
    "params = {\n",
    "'q' : search_new,\n",
    "'type': 'track',\n",
    "'limit' : 5\n",
    "}\n",
    "\n",
    "#Header for authorization\n",
    "header = {'Authorization' : f'Bearer {token}'}\n",
    "\n",
    "#Search endpoint\n",
    "spotify_search = 'https://api.spotify.com/v1/search'\n",
    "\n",
    "#Make the request\n",
    "res = requests.get(spotify_search, headers = header, params = params)\n",
    "status = res.status_code\n",
    "\n",
    "results = res.json()"
   ]
  },
  {
   "cell_type": "code",
   "execution_count": 117,
   "metadata": {},
   "outputs": [
    {
     "data": {
      "text/plain": [
       "'https://i.scdn.co/image/ab67616d00001e02540fc1d083eac5bcff8dad21'"
      ]
     },
     "execution_count": 117,
     "metadata": {},
     "output_type": "execute_result"
    }
   ],
   "source": [
    "results['tracks']['items'][0]['album']['images'][1]['url']"
   ]
  },
  {
   "cell_type": "code",
   "execution_count": null,
   "metadata": {},
   "outputs": [],
   "source": [
    "spotify_info['Song Title'] = \n",
    "        spotify_info['Artist'] = \n",
    "        spotify_info['Album'] = \n",
    "        spotify_info['ISRC'] = \n",
    "        spotify_info['Release Date'] = \n",
    "        spotify['Is Explicit?'] = results['tracks']['items'][0]['explicit']\n",
    "        spotify['Spotify URI'] = results['tracks']['items'][0]['id']\n",
    "        uri = results['tracks']['items'][0]['id']\n",
    "        album_id = results['tracks']['items'][0]['album']['id']"
   ]
  },
  {
   "cell_type": "code",
   "execution_count": 131,
   "metadata": {},
   "outputs": [],
   "source": [
    "def spotify_master(search):\n",
    "    spotify_info = {}\n",
    "    \n",
    "    token = auth(s_key, ss_key)\n",
    "    \n",
    "    try:\n",
    "\n",
    "        #Search parameters with the song plugged in\n",
    "        params = {\n",
    "        'q' : search,\n",
    "        'type': 'track',\n",
    "        'limit' : 5\n",
    "        }\n",
    "        \n",
    "        \n",
    "        #Header for authorization\n",
    "        header = {'Authorization' : f'Bearer {token}'}\n",
    "\n",
    "        #Search endpoint\n",
    "        spotify_search = 'https://api.spotify.com/v1/search'\n",
    "\n",
    "        #Make the request\n",
    "        res = requests.get(spotify_search, headers = header, params = params)\n",
    "        status = res.status_code\n",
    "\n",
    "        results = res.json()\n",
    "        \n",
    "        spotify_info['Song Title'] = results['tracks']['items'][0]['name']\n",
    "        spotify_info['Artist'] = results['tracks']['items'][0]['artists'][0]['name']\n",
    "        spotify_info['Album'] = results['tracks']['items'][0]['album']['name']\n",
    "        spotify_info['ISRC'] = results['tracks']['items'][0]['external_ids']['isrc']\n",
    "        spotify_info['Release Date'] = results['tracks']['items'][0]['album']['release_date']\n",
    "        spotify_info['Is Explicit?'] = results['tracks']['items'][0]['explicit']\n",
    "        spotify_info['Spotify URI'] = results['tracks']['items'][0]['id']\n",
    "        uri = results['tracks']['items'][0]['id']\n",
    "        album_id = results['tracks']['items'][0]['album']['id']\n",
    "        embed = f'<iframe src=\"https://open.spotify.com/embed/album/{album_id}\" width=\"300\" height=\"380\" frameborder=\"0\" allowtransparency=\"true\" allow=\"encrypted-media\"></iframe>'\n",
    "        art = results['tracks']['items'][0]['album']['images'][1]['url']\n",
    "        \n",
    "        \n",
    "        res_2 = requests.get(f'https://api.spotify.com/v1/albums/{album_id}', headers = header) \n",
    "        \n",
    "        results_2 = res_2.json()\n",
    "        spotify_info['Album UPC'] = results_2['external_ids']['upc']\n",
    "        spotify_info['Label'] = results_2['label']\n",
    "        \n",
    "    \n",
    "        spotify_info['Spotify'] = 'Master Info from Spotify'\n",
    "    except:\n",
    "        return 'Could not find on Spotify.', 'None'\n",
    "            \n",
    "    spotify_df = pd.DataFrame([spotify_info])\n",
    "        \n",
    "    spotify_df.set_index('Spotify', inplace = True)\n",
    "\n",
    "    \n",
    "    return spotify_df.T, embed, art"
   ]
  },
  {
   "cell_type": "code",
   "execution_count": 132,
   "metadata": {},
   "outputs": [],
   "source": [
    "mast, embed, art = spotify_master(search_new)"
   ]
  },
  {
   "cell_type": "code",
   "execution_count": 133,
   "metadata": {},
   "outputs": [
    {
     "data": {
      "text/html": [
       "<div>\n",
       "<style scoped>\n",
       "    .dataframe tbody tr th:only-of-type {\n",
       "        vertical-align: middle;\n",
       "    }\n",
       "\n",
       "    .dataframe tbody tr th {\n",
       "        vertical-align: top;\n",
       "    }\n",
       "\n",
       "    .dataframe thead th {\n",
       "        text-align: right;\n",
       "    }\n",
       "</style>\n",
       "<table border=\"1\" class=\"dataframe\">\n",
       "  <thead>\n",
       "    <tr style=\"text-align: right;\">\n",
       "      <th>Spotify</th>\n",
       "      <th>Master Info from Spotify</th>\n",
       "    </tr>\n",
       "  </thead>\n",
       "  <tbody>\n",
       "    <tr>\n",
       "      <th>Song Title</th>\n",
       "      <td>Tennessee Whiskey</td>\n",
       "    </tr>\n",
       "    <tr>\n",
       "      <th>Artist</th>\n",
       "      <td>Chris Stapleton</td>\n",
       "    </tr>\n",
       "    <tr>\n",
       "      <th>Album</th>\n",
       "      <td>Traveller</td>\n",
       "    </tr>\n",
       "    <tr>\n",
       "      <th>ISRC</th>\n",
       "      <td>USUM71418088</td>\n",
       "    </tr>\n",
       "    <tr>\n",
       "      <th>Release Date</th>\n",
       "      <td>2015-05-04</td>\n",
       "    </tr>\n",
       "    <tr>\n",
       "      <th>Is Explicit?</th>\n",
       "      <td>False</td>\n",
       "    </tr>\n",
       "    <tr>\n",
       "      <th>Spotify URI</th>\n",
       "      <td>3fqwjXwUGN6vbzIwvyFMhx</td>\n",
       "    </tr>\n",
       "    <tr>\n",
       "      <th>Album UPC</th>\n",
       "      <td>00602547273123</td>\n",
       "    </tr>\n",
       "    <tr>\n",
       "      <th>Label</th>\n",
       "      <td>Mercury Nashville</td>\n",
       "    </tr>\n",
       "  </tbody>\n",
       "</table>\n",
       "</div>"
      ],
      "text/plain": [
       "Spotify      Master Info from Spotify\n",
       "Song Title          Tennessee Whiskey\n",
       "Artist                Chris Stapleton\n",
       "Album                       Traveller\n",
       "ISRC                     USUM71418088\n",
       "Release Date               2015-05-04\n",
       "Is Explicit?                    False\n",
       "Spotify URI    3fqwjXwUGN6vbzIwvyFMhx\n",
       "Album UPC              00602547273123\n",
       "Label               Mercury Nashville"
      ]
     },
     "execution_count": 133,
     "metadata": {},
     "output_type": "execute_result"
    }
   ],
   "source": [
    "mast"
   ]
  },
  {
   "cell_type": "code",
   "execution_count": 89,
   "metadata": {},
   "outputs": [
    {
     "data": {
      "text/plain": [
       "'00602547273123'"
      ]
     },
     "execution_count": 89,
     "metadata": {},
     "output_type": "execute_result"
    }
   ],
   "source": [
    "res['external_ids']['upc']"
   ]
  },
  {
   "cell_type": "code",
   "execution_count": 58,
   "metadata": {},
   "outputs": [
    {
     "data": {
      "text/plain": [
       "{'height': 64,\n",
       " 'url': 'https://i.scdn.co/image/ab67616d00004851540fc1d083eac5bcff8dad21',\n",
       " 'width': 64}"
      ]
     },
     "execution_count": 58,
     "metadata": {},
     "output_type": "execute_result"
    }
   ],
   "source": [
    "#Artwork\n",
    "res['images'][2]"
   ]
  },
  {
   "cell_type": "code",
   "execution_count": 104,
   "metadata": {
    "scrolled": true
   },
   "outputs": [],
   "source": [
    "spotify, embed = get_spotify(search_new)"
   ]
  },
  {
   "cell_type": "code",
   "execution_count": 105,
   "metadata": {},
   "outputs": [
    {
     "data": {
      "text/plain": [
       "'<iframe src=\"https://open.spotify.com/embed/album/7lxHnls3yQNl8B9bILmHj7\" width=\"300\" height=\"380\" frameborder=\"0\" allowtransparency=\"true\" allow=\"encrypted-media\"></iframe>'"
      ]
     },
     "execution_count": 105,
     "metadata": {},
     "output_type": "execute_result"
    }
   ],
   "source": [
    "embed"
   ]
  },
  {
   "cell_type": "markdown",
   "metadata": {},
   "source": [
    "### Sync Score"
   ]
  },
  {
   "cell_type": "code",
   "execution_count": 106,
   "metadata": {},
   "outputs": [],
   "source": [
    "cvec = pickle.load(open('./model/cvec.pkl', 'rb'))\n",
    "rf = pickle.load(open('./model/rf.pkl', 'rb'))"
   ]
  },
  {
   "cell_type": "code",
   "execution_count": 107,
   "metadata": {},
   "outputs": [],
   "source": [
    "features = ['year', 'explicit', \n",
    "       'n_writers', 'n_pub', \n",
    "       's_dance', 's_energy', 's_key', 's_loudness', 's_mode',\n",
    "       's_speech', 's_acoustic', 's_inst', 's_live', 's_valence', 's_tempo',\n",
    "       's_time_sig']"
   ]
  },
  {
   "cell_type": "code",
   "execution_count": 161,
   "metadata": {},
   "outputs": [
    {
     "ename": "SyntaxError",
     "evalue": "invalid syntax (<ipython-input-161-7ed32208b7d5>, line 5)",
     "output_type": "error",
     "traceback": [
      "\u001b[0;36m  File \u001b[0;32m\"<ipython-input-161-7ed32208b7d5>\"\u001b[0;36m, line \u001b[0;32m5\u001b[0m\n\u001b[0;31m    'n_pub' : len(publishing.iloc[3, 0].split(','))\u001b[0m\n\u001b[0m          ^\u001b[0m\n\u001b[0;31mSyntaxError\u001b[0m\u001b[0;31m:\u001b[0m invalid syntax\n"
     ]
    }
   ],
   "source": [
    "pred_df = {\n",
    "    'year' : master.iloc[4, 0][:4],\n",
    "    'explicit' : int(master.iloc[5, 0]),\n",
    "    'n_writers' : writers,\n",
    "    'n_pub' : publishers,\n",
    "    's_dance' : audio.iloc[2, 0],\n",
    "    's_energy' : audio.iloc[3, 0],\n",
    "    's_key' : audio.iloc[4, 0],\n",
    "    's_loudness' : audio.iloc[5, 0],\n",
    "    's_mode' : audio.iloc[6, 0],\n",
    "    's_speech' : audio.iloc[7, 0],\n",
    "    's_acoustic' : audio.iloc[8, 0],\n",
    "    's_inst' : audio.iloc[9, 0],\n",
    "    's_live': audio.iloc[10, 0],\n",
    "    's_valence' : audio.iloc[11, 0],\n",
    "    's_tempo': audio.iloc[12, 0],\n",
    "    's_time_sig' : audio.iloc[13, 0]\n",
    "}\n"
   ]
  },
  {
   "cell_type": "code",
   "execution_count": 109,
   "metadata": {},
   "outputs": [],
   "source": [
    "pred_df['s_dance'] = spotify.iloc[2, 0]\n",
    "pred_df['s_energy'] = \n",
    "pred_df['s_key']= \n",
    "pred_df['s_loudness']= \n",
    "pred_df['s_mode']= \n",
    "pred_df['s_speech']= \n",
    "pred_df['s_acoustic']= \n",
    "pred_df['s_inst']= \n",
    "pred_df['s_live']= \n",
    "pred_df['s_valence'] = \n",
    "pred_df['s_tempo'] = \n",
    "pred_df['s_time_sig'] = "
   ]
  },
  {
   "cell_type": "code",
   "execution_count": 110,
   "metadata": {},
   "outputs": [
    {
     "data": {
      "text/html": [
       "<div>\n",
       "<style scoped>\n",
       "    .dataframe tbody tr th:only-of-type {\n",
       "        vertical-align: middle;\n",
       "    }\n",
       "\n",
       "    .dataframe tbody tr th {\n",
       "        vertical-align: top;\n",
       "    }\n",
       "\n",
       "    .dataframe thead th {\n",
       "        text-align: right;\n",
       "    }\n",
       "</style>\n",
       "<table border=\"1\" class=\"dataframe\">\n",
       "  <thead>\n",
       "    <tr style=\"text-align: right;\">\n",
       "      <th>Publishing</th>\n",
       "      <th>Publishing Info from Lyric Freak</th>\n",
       "    </tr>\n",
       "  </thead>\n",
       "  <tbody>\n",
       "    <tr>\n",
       "      <th>Album</th>\n",
       "      <td>Traveller</td>\n",
       "    </tr>\n",
       "    <tr>\n",
       "      <th>Composition Title</th>\n",
       "      <td>Tennessee Whiskey</td>\n",
       "    </tr>\n",
       "    <tr>\n",
       "      <th>Performed By</th>\n",
       "      <td>Chris Stapleton</td>\n",
       "    </tr>\n",
       "    <tr>\n",
       "      <th>Writers</th>\n",
       "      <td>Linda H Bartholomew, Dean Dillon</td>\n",
       "    </tr>\n",
       "    <tr>\n",
       "      <th>Publishers</th>\n",
       "      <td>Sony/ATV Music Publishing LLC, Universal Music...</td>\n",
       "    </tr>\n",
       "  </tbody>\n",
       "</table>\n",
       "</div>"
      ],
      "text/plain": [
       "Publishing                          Publishing Info from Lyric Freak\n",
       "Album                                                      Traveller\n",
       "Composition Title                                  Tennessee Whiskey\n",
       "Performed By                                         Chris Stapleton\n",
       "Writers                             Linda H Bartholomew, Dean Dillon\n",
       "Publishers         Sony/ATV Music Publishing LLC, Universal Music..."
      ]
     },
     "execution_count": 110,
     "metadata": {},
     "output_type": "execute_result"
    }
   ],
   "source": [
    "publishing"
   ]
  },
  {
   "cell_type": "code",
   "execution_count": 111,
   "metadata": {},
   "outputs": [],
   "source": [
    "pred_df['text'] = master.iloc[1, 0].lower() + \" \" + publishing.iloc[2, 0] + \" \" + publishing.iloc[3, 0]"
   ]
  },
  {
   "cell_type": "code",
   "execution_count": 112,
   "metadata": {},
   "outputs": [
    {
     "data": {
      "text/plain": [
       "'chris stapleton Chris Stapleton Linda H Bartholomew, Dean Dillon'"
      ]
     },
     "execution_count": 112,
     "metadata": {},
     "output_type": "execute_result"
    }
   ],
   "source": [
    "pred_df['text']"
   ]
  },
  {
   "cell_type": "code",
   "execution_count": 113,
   "metadata": {},
   "outputs": [],
   "source": [
    "to_predict = pd.DataFrame([pred_df])"
   ]
  },
  {
   "cell_type": "code",
   "execution_count": 114,
   "metadata": {},
   "outputs": [],
   "source": [
    "def sync_score(mast, pub, spot):\n",
    "    cvec = pickle.load(open('./model/cvec.pkl', 'rb'))\n",
    "    rf = pickle.load(open('./model/rf.pkl', 'rb'))\n",
    "    \n",
    "    \n",
    "    pred_df = {}\n",
    "    pred_df['year'] = mast.iloc[4, 0][:4]\n",
    "    pred_df['explicit'] = int(mast.iloc[5, 0])\n",
    "    pred_df['n_writers'] = len(pub.iloc[2, 0].split(','))\n",
    "    pred_df['n_pub'] = len(pub.iloc[3, 0].split(','))\n",
    "\n",
    "    \n",
    "    pred_df['s_dance'] = spot.iloc[2, 0]\n",
    "    pred_df['s_energy'] = spot.iloc[3, 0]\n",
    "    pred_df['s_key']= spot.iloc[4, 0]\n",
    "    pred_df['s_loudness']= spot.iloc[5, 0]\n",
    "    pred_df['s_mode']= spot.iloc[6, 0]\n",
    "    pred_df['s_speech']= spot.iloc[7, 0]\n",
    "    pred_df['s_acoustic']= spot.iloc[8, 0]\n",
    "    pred_df['s_inst']= spot.iloc[9, 0]\n",
    "    pred_df['s_live']= spot.iloc[10, 0]\n",
    "    pred_df['s_valence'] = spot.iloc[11, 0]\n",
    "    pred_df['s_tempo'] = spot.iloc[12, 0]\n",
    "    pred_df['s_time_sig'] = spot.iloc[13, 0]\n",
    "    \n",
    "    pred_df['text'] = mast.iloc[1, 0].lower() + \" \" + pub.iloc[2, 0] + \" \" + pub.iloc[3, 0]\n",
    "    \n",
    "    to_predict = pd.DataFrame([pred_df])\n",
    "    vec = cvec.transform(to_predict['text'])\n",
    "    x_text = pd.DataFrame(vec.toarray(),\n",
    "                 columns=cvec.get_feature_names())\n",
    "    X = pd.concat([x_text, to_predict[features]], axis = 1)\n",
    "    score =  rf.predict_proba(X)[0][1]\n",
    "    \n",
    "    if score >= .50:\n",
    "        return 'Syncable'\n",
    "    \n",
    "    else:\n",
    "        return 'Not very syncable'"
   ]
  },
  {
   "cell_type": "code",
   "execution_count": 115,
   "metadata": {},
   "outputs": [],
   "source": [
    "test = 'not'"
   ]
  },
  {
   "cell_type": "code",
   "execution_count": 116,
   "metadata": {},
   "outputs": [
    {
     "data": {
      "text/plain": [
       "True"
      ]
     },
     "execution_count": 116,
     "metadata": {},
     "output_type": "execute_result"
    }
   ],
   "source": [
    "type(test) == str"
   ]
  },
  {
   "cell_type": "code",
   "execution_count": 137,
   "metadata": {},
   "outputs": [],
   "source": [
    "def get_all(artist, title):\n",
    "\n",
    "    try:\n",
    "        master = gather_deezer(title, artist)\n",
    "        title = master.iloc[0, 0].lower()\n",
    "        artist = master.iloc[1, 0].lower()\n",
    "        title_display = master.iloc[0, 0]\n",
    "        artist_display = master.iloc[1, 0]\n",
    "        search_new = title + ' ' + artist\n",
    "        artwork = master.iloc[11, 0]\n",
    "\n",
    "        genius_lyrics = gather_genius(search_new)\n",
    "\n",
    "        publishing = gather_lyricfreak(search_new)\n",
    "\n",
    "        spotify, embed = get_spotify(search_new)\n",
    "\n",
    "        if (type(publishing != str)) and (type(spotify != str)):\n",
    "            score = sync_score(master, publishing, spotify)\n",
    "        else:\n",
    "            score = 'Not enough info for Sync Score'\n",
    "        if master.iloc[5, 0] == False:\n",
    "            master.iloc[5, 0] = 'No'\n",
    "        else:\n",
    "            master.iloc[5, 0] = 'Yes'\n",
    "\n",
    "    except:\n",
    "        try:\n",
    "            search_new = artist + ' ' + title\n",
    "            master, embed, art = spotify_master(search_new)\n",
    "            print(master)\n",
    "            title = master.iloc[0, 0].lower()\n",
    "            artist = master.iloc[1, 0].lower()\n",
    "            title_display = master.iloc[0, 0]\n",
    "            artist_display = master.iloc[1, 0]\n",
    "\n",
    "            genius_lyrics = gather_genius(search_new)\n",
    "\n",
    "            publishing = gather_lyricfreak(search_new)\n",
    "\n",
    "            spotify, embed = get_spotify(search_new)\n",
    "\n",
    "            if (type(publishing != str)) and (type(spotify != str)):\n",
    "                score = sync_score(master, publishing, spotify)\n",
    "            else:\n",
    "                score = 'Not enough info for Sync Score'\n",
    "            if master.iloc[5, 0] == False:\n",
    "                master.iloc[5, 0] = 'No'\n",
    "            else:\n",
    "                master.iloc[5, 0] = 'Yes'\n",
    "\n",
    "\n",
    "        except:\n",
    "            title_display = \"None\"\n",
    "            artist_display = \"None\"\n",
    "            master =  \"None\"\n",
    "            publishing = \"None\"\n",
    "            genius_lyrics = \"None\"\n",
    "            spotify = \"None\"\n",
    "            score = \"None\"\n",
    "            embed = \"None\"\n",
    "            artwork = 'None'\n",
    "\n",
    "    \n",
    "\n",
    "    return art, title_display, artist_display, master, publishing, genius_lyrics, spotify, score, embed\n",
    "\n",
    "\n",
    "\n"
   ]
  },
  {
   "cell_type": "code",
   "execution_count": 138,
   "metadata": {},
   "outputs": [
    {
     "name": "stdout",
     "output_type": "stream",
     "text": [
      "Could not find on Deezer.\n",
      "Spotify      Master Info from Spotify\n",
      "Song Title                      Emily\n",
      "Artist                  Clean Cut Kid\n",
      "Album                        Painwave\n",
      "ISRC                     GBKPL1820051\n",
      "Release Date               2019-03-29\n",
      "Is Explicit?                    False\n",
      "Spotify URI    3m7QGY2wCCAjNIfsnFdqfW\n",
      "Album UPC               5054526891937\n",
      "Label             Babe Magnet Records\n",
      "CPU times: user 230 ms, sys: 15.8 ms, total: 246 ms\n",
      "Wall time: 5.14 s\n"
     ]
    }
   ],
   "source": [
    "%%time\n",
    "artwork, title_display, artist_display, master, publishing, genius_lyrics, spotify, score, embed = get_all('Emily', 'Clen Cut Kid')"
   ]
  },
  {
   "cell_type": "code",
   "execution_count": 136,
   "metadata": {},
   "outputs": [
    {
     "data": {
      "text/plain": [
       "'None'"
      ]
     },
     "execution_count": 136,
     "metadata": {},
     "output_type": "execute_result"
    }
   ],
   "source": [
    "master"
   ]
  },
  {
   "cell_type": "code",
   "execution_count": 144,
   "metadata": {},
   "outputs": [
    {
     "data": {
      "text/plain": [
       "\"<div id='rg_embed_link_4539729' class='rg_embed_link' data-song-id='4539729'>Read <a href='https://genius.com/Tones-and-i-dance-monkey-lyrics'>“Dance Monkey” by Tones\\xa0and I</a> on Genius</div> <script crossorigin src='//genius.com/songs/4539729/embed.js'></script>\""
      ]
     },
     "execution_count": 144,
     "metadata": {},
     "output_type": "execute_result"
    }
   ],
   "source": [
    "genius_lyrics"
   ]
  },
  {
   "cell_type": "code",
   "execution_count": 145,
   "metadata": {},
   "outputs": [
    {
     "data": {
      "text/plain": [
       "'<iframe src=\"https://open.spotify.com/embed/album/0UywfDKYlyiu1b38DRrzYD\" width=\"300\" height=\"380\" frameborder=\"0\" allowtransparency=\"true\" allow=\"encrypted-media\"></iframe>'"
      ]
     },
     "execution_count": 145,
     "metadata": {},
     "output_type": "execute_result"
    }
   ],
   "source": [
    "embed"
   ]
  },
  {
   "cell_type": "code",
   "execution_count": 146,
   "metadata": {},
   "outputs": [
    {
     "data": {
      "text/plain": [
       "'Syncable'"
      ]
     },
     "execution_count": 146,
     "metadata": {},
     "output_type": "execute_result"
    }
   ],
   "source": [
    "score"
   ]
  },
  {
   "cell_type": "code",
   "execution_count": 147,
   "metadata": {},
   "outputs": [],
   "source": [
    "explicit_d = {False : 'No', True : 'Yes'}"
   ]
  },
  {
   "cell_type": "code",
   "execution_count": 153,
   "metadata": {},
   "outputs": [
    {
     "ename": "AttributeError",
     "evalue": "'bool' object has no attribute 'map'",
     "output_type": "error",
     "traceback": [
      "\u001b[0;31m---------------------------------------------------------------------------\u001b[0m",
      "\u001b[0;31mAttributeError\u001b[0m                            Traceback (most recent call last)",
      "\u001b[0;32m<ipython-input-153-1fdda1bf862a>\u001b[0m in \u001b[0;36m<module>\u001b[0;34m\u001b[0m\n\u001b[0;32m----> 1\u001b[0;31m \u001b[0mmaster\u001b[0m\u001b[0;34m.\u001b[0m\u001b[0miloc\u001b[0m\u001b[0;34m[\u001b[0m\u001b[0;36m5\u001b[0m\u001b[0;34m]\u001b[0m\u001b[0;34m[\u001b[0m\u001b[0;36m0\u001b[0m\u001b[0;34m]\u001b[0m\u001b[0;34m.\u001b[0m\u001b[0mmap\u001b[0m\u001b[0;34m(\u001b[0m\u001b[0mexplicit_d\u001b[0m\u001b[0;34m)\u001b[0m\u001b[0;34m\u001b[0m\u001b[0;34m\u001b[0m\u001b[0m\n\u001b[0m",
      "\u001b[0;31mAttributeError\u001b[0m: 'bool' object has no attribute 'map'"
     ]
    }
   ],
   "source": [
    "master.iloc[5][0].map(explicit_d)"
   ]
  },
  {
   "cell_type": "code",
   "execution_count": 149,
   "metadata": {},
   "outputs": [
    {
     "ename": "AttributeError",
     "evalue": "'bool' object has no attribute 'map'",
     "output_type": "error",
     "traceback": [
      "\u001b[0;31m---------------------------------------------------------------------------\u001b[0m",
      "\u001b[0;31mAttributeError\u001b[0m                            Traceback (most recent call last)",
      "\u001b[0;32m<ipython-input-149-4fb848916a2e>\u001b[0m in \u001b[0;36m<module>\u001b[0;34m\u001b[0m\n\u001b[0;32m----> 1\u001b[0;31m \u001b[0mmaster\u001b[0m\u001b[0;34m.\u001b[0m\u001b[0miloc\u001b[0m\u001b[0;34m[\u001b[0m\u001b[0;36m5\u001b[0m\u001b[0;34m,\u001b[0m \u001b[0;36m0\u001b[0m\u001b[0;34m]\u001b[0m \u001b[0;34m=\u001b[0m \u001b[0mmaster\u001b[0m\u001b[0;34m.\u001b[0m\u001b[0miloc\u001b[0m\u001b[0;34m[\u001b[0m\u001b[0;36m5\u001b[0m\u001b[0;34m,\u001b[0m \u001b[0;36m0\u001b[0m\u001b[0;34m]\u001b[0m\u001b[0;34m.\u001b[0m\u001b[0mmap\u001b[0m\u001b[0;34m(\u001b[0m\u001b[0mexplicit_d\u001b[0m\u001b[0;34m)\u001b[0m\u001b[0;34m\u001b[0m\u001b[0;34m\u001b[0m\u001b[0m\n\u001b[0m",
      "\u001b[0;31mAttributeError\u001b[0m: 'bool' object has no attribute 'map'"
     ]
    }
   ],
   "source": [
    "master.iloc[5] = master.iloc[5, 0].map(explicit_d)"
   ]
  },
  {
   "cell_type": "code",
   "execution_count": 154,
   "metadata": {},
   "outputs": [
    {
     "data": {
      "text/plain": [
       "False"
      ]
     },
     "execution_count": 154,
     "metadata": {},
     "output_type": "execute_result"
    }
   ],
   "source": [
    "master.iloc[5, 0]"
   ]
  },
  {
   "cell_type": "code",
   "execution_count": 122,
   "metadata": {},
   "outputs": [
    {
     "data": {
      "text/plain": [
       "'<table border=\"1\" class=\"dataframe\">\\n  <thead>\\n    <tr style=\"text-align: right;\">\\n      <th>Master</th>\\n      <th>Master Info from Deezer</th>\\n    </tr>\\n  </thead>\\n  <tbody>\\n    <tr>\\n      <th>Recording Title</th>\\n      <td>Dance Monkey</td>\\n    </tr>\\n    <tr>\\n      <th>Artist</th>\\n      <td>Tones and I</td>\\n    </tr>\\n    <tr>\\n      <th>Album Title</th>\\n      <td>The Kids Are Coming</td>\\n    </tr>\\n    <tr>\\n      <th>ISRC</th>\\n      <td>QZES71982312</td>\\n    </tr>\\n    <tr>\\n      <th>Release Date</th>\\n      <td>2019-08-29</td>\\n    </tr>\\n    <tr>\\n      <th>Is Explicit?</th>\\n      <td>False</td>\\n    </tr>\\n    <tr>\\n      <th>BPM</th>\\n      <td>97.97</td>\\n    </tr>\\n    <tr>\\n      <th>Deezer Track ID</th>\\n      <td>739870792</td>\\n    </tr>\\n    <tr>\\n      <th>Link to Album on Deezer</th>\\n      <td>https://www.deezer.com/album/108770322</td>\\n    </tr>\\n    <tr>\\n      <th>Album Art</th>\\n      <td>https://cdns-images.dzcdn.net/images/cover/5636a569737f8dad9a928f3d907c493a/250x250-000000-80-0-0.jpg</td>\\n    </tr>\\n  </tbody>\\n</table>'"
      ]
     },
     "execution_count": 122,
     "metadata": {},
     "output_type": "execute_result"
    }
   ],
   "source": [
    "master.to_html()"
   ]
  },
  {
   "cell_type": "code",
   "execution_count": 123,
   "metadata": {},
   "outputs": [
    {
     "data": {
      "text/plain": [
       "'<table border=\"1\" class=\"dataframe\">\\n  <thead>\\n    <tr style=\"text-align: right;\">\\n      <th>Publishing</th>\\n      <th>Publishing Info from Lyric Freak</th>\\n    </tr>\\n  </thead>\\n  <tbody>\\n    <tr>\\n      <th>Composition Title</th>\\n      <td>Dance Monkey</td>\\n    </tr>\\n    <tr>\\n      <th>Performed By</th>\\n      <td>Tones And I</td>\\n    </tr>\\n    <tr>\\n      <th>Writers</th>\\n      <td>Toni Watson</td>\\n    </tr>\\n    <tr>\\n      <th>Publishers</th>\\n      <td>Warner Chappell Music</td>\\n    </tr>\\n  </tbody>\\n</table>'"
      ]
     },
     "execution_count": 123,
     "metadata": {},
     "output_type": "execute_result"
    }
   ],
   "source": [
    "publishing.to_html()"
   ]
  },
  {
   "cell_type": "code",
   "execution_count": null,
   "metadata": {},
   "outputs": [],
   "source": []
  }
 ],
 "metadata": {
  "kernelspec": {
   "display_name": "Python 3",
   "language": "python",
   "name": "python3"
  },
  "language_info": {
   "codemirror_mode": {
    "name": "ipython",
    "version": 3
   },
   "file_extension": ".py",
   "mimetype": "text/x-python",
   "name": "python",
   "nbconvert_exporter": "python",
   "pygments_lexer": "ipython3",
   "version": "3.7.6"
  }
 },
 "nbformat": 4,
 "nbformat_minor": 4
}
