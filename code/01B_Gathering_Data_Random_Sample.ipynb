{
 "cells": [
  {
   "cell_type": "markdown",
   "metadata": {},
   "source": [
    "# Sync Link\n",
    "### Part 1B: Starting the Dataset with Randomness"
   ]
  },
  {
   "cell_type": "markdown",
   "metadata": {},
   "source": [
    "I've already scraped songs from [What-Song.com](https://what-song.com) which will essentially be the target (whether or not it appears on that site). Now I'll need to add additional information for each song and build out the dataset. Ideally, only about half of the final songs will have been synced so I need another source to help randomly pick songs and end up with that distribution. \n",
    "\n",
    "In searching for a giant list of songs, I realized a karaoke catalog might be the best thing I could find. Below I've downloaded the catalog from [KaraFun](https://karafun.com) and will use that list of songs to randomly built this dataset."
   ]
  },
  {
   "cell_type": "code",
   "execution_count": 1,
   "metadata": {},
   "outputs": [],
   "source": [
    "import pandas as pd\n",
    "import numpy as np\n",
    "import requests\n",
    "from bs4 import BeautifulSoup\n",
    "import time\n",
    "import regex as re"
   ]
  },
  {
   "cell_type": "code",
   "execution_count": 2,
   "metadata": {},
   "outputs": [],
   "source": [
    "kara = pd.read_csv('../data/karafuncatalog.csv', sep = ';')"
   ]
  },
  {
   "cell_type": "code",
   "execution_count": 3,
   "metadata": {},
   "outputs": [
    {
     "data": {
      "text/html": [
       "<div>\n",
       "<style scoped>\n",
       "    .dataframe tbody tr th:only-of-type {\n",
       "        vertical-align: middle;\n",
       "    }\n",
       "\n",
       "    .dataframe tbody tr th {\n",
       "        vertical-align: top;\n",
       "    }\n",
       "\n",
       "    .dataframe thead th {\n",
       "        text-align: right;\n",
       "    }\n",
       "</style>\n",
       "<table border=\"1\" class=\"dataframe\">\n",
       "  <thead>\n",
       "    <tr style=\"text-align: right;\">\n",
       "      <th></th>\n",
       "      <th>Id</th>\n",
       "      <th>Title</th>\n",
       "      <th>Artist</th>\n",
       "      <th>Year</th>\n",
       "      <th>Duo</th>\n",
       "      <th>Explicit</th>\n",
       "      <th>Date Added</th>\n",
       "      <th>Styles</th>\n",
       "      <th>Languages</th>\n",
       "    </tr>\n",
       "  </thead>\n",
       "  <tbody>\n",
       "    <tr>\n",
       "      <th>36458</th>\n",
       "      <td>30797</td>\n",
       "      <td>Steppin' Away</td>\n",
       "      <td>Stereomud</td>\n",
       "      <td>2001</td>\n",
       "      <td>0</td>\n",
       "      <td>0</td>\n",
       "      <td>2011-11-16</td>\n",
       "      <td>Hard/Metal,Rock</td>\n",
       "      <td>English</td>\n",
       "    </tr>\n",
       "    <tr>\n",
       "      <th>36459</th>\n",
       "      <td>19236</td>\n",
       "      <td>Where Do We Go</td>\n",
       "      <td>Sandrine</td>\n",
       "      <td>2007</td>\n",
       "      <td>0</td>\n",
       "      <td>0</td>\n",
       "      <td>2013-07-23</td>\n",
       "      <td>Pop</td>\n",
       "      <td>English</td>\n",
       "    </tr>\n",
       "    <tr>\n",
       "      <th>36460</th>\n",
       "      <td>21128</td>\n",
       "      <td>Sata Vuotta</td>\n",
       "      <td>Herra Ylppö &amp; Ihmiset</td>\n",
       "      <td>2008</td>\n",
       "      <td>0</td>\n",
       "      <td>0</td>\n",
       "      <td>2012-05-29</td>\n",
       "      <td>Rock,Pop</td>\n",
       "      <td>Finnish</td>\n",
       "    </tr>\n",
       "    <tr>\n",
       "      <th>36461</th>\n",
       "      <td>47720</td>\n",
       "      <td>As Long As I Got You</td>\n",
       "      <td>Lily Allen</td>\n",
       "      <td>2014</td>\n",
       "      <td>0</td>\n",
       "      <td>0</td>\n",
       "      <td>2016-02-24</td>\n",
       "      <td>Pop</td>\n",
       "      <td>English</td>\n",
       "    </tr>\n",
       "    <tr>\n",
       "      <th>36462</th>\n",
       "      <td>23828</td>\n",
       "      <td>Cold</td>\n",
       "      <td>Jeremy McComb</td>\n",
       "      <td>2008</td>\n",
       "      <td>0</td>\n",
       "      <td>0</td>\n",
       "      <td>2013-11-19</td>\n",
       "      <td>Country</td>\n",
       "      <td>English</td>\n",
       "    </tr>\n",
       "  </tbody>\n",
       "</table>\n",
       "</div>"
      ],
      "text/plain": [
       "          Id                 Title                 Artist  Year  Duo  \\\n",
       "36458  30797         Steppin' Away              Stereomud  2001    0   \n",
       "36459  19236        Where Do We Go               Sandrine  2007    0   \n",
       "36460  21128           Sata Vuotta  Herra Ylppö & Ihmiset  2008    0   \n",
       "36461  47720  As Long As I Got You             Lily Allen  2014    0   \n",
       "36462  23828                  Cold          Jeremy McComb  2008    0   \n",
       "\n",
       "       Explicit  Date Added           Styles Languages  \n",
       "36458         0  2011-11-16  Hard/Metal,Rock   English  \n",
       "36459         0  2013-07-23              Pop   English  \n",
       "36460         0  2012-05-29         Rock,Pop   Finnish  \n",
       "36461         0  2016-02-24              Pop   English  \n",
       "36462         0  2013-11-19          Country   English  "
      ]
     },
     "execution_count": 3,
     "metadata": {},
     "output_type": "execute_result"
    }
   ],
   "source": [
    "kara.tail()"
   ]
  },
  {
   "cell_type": "markdown",
   "metadata": {},
   "source": [
    "The combo of title and artist is what I'll use to see if the song has been synced before in the other DataFrame."
   ]
  },
  {
   "cell_type": "code",
   "execution_count": 4,
   "metadata": {},
   "outputs": [],
   "source": [
    "kara['title_artist'] = kara['Title'] + \" - \" + kara['Artist']"
   ]
  },
  {
   "cell_type": "code",
   "execution_count": 5,
   "metadata": {},
   "outputs": [
    {
     "data": {
      "text/plain": [
       "0                   Shallow - A Star is Born\n",
       "1        Tennessee Whiskey - Chris Stapleton\n",
       "2                 Dance Monkey - Tones and I\n",
       "3              Sweet Caroline - Neil Diamond\n",
       "4          Someone You Loved - Lewis Capaldi\n",
       "                        ...                 \n",
       "36458              Steppin' Away - Stereomud\n",
       "36459              Where Do We Go - Sandrine\n",
       "36460    Sata Vuotta - Herra Ylppö & Ihmiset\n",
       "36461      As Long As I Got You - Lily Allen\n",
       "36462                   Cold - Jeremy McComb\n",
       "Name: title_artist, Length: 36463, dtype: object"
      ]
     },
     "execution_count": 5,
     "metadata": {},
     "output_type": "execute_result"
    }
   ],
   "source": [
    "kara['title_artist']"
   ]
  },
  {
   "cell_type": "markdown",
   "metadata": {},
   "source": [
    "Loading in the data from WhatSong."
   ]
  },
  {
   "cell_type": "code",
   "execution_count": 6,
   "metadata": {},
   "outputs": [
    {
     "name": "stderr",
     "output_type": "stream",
     "text": [
      "/opt/anaconda3/lib/python3.7/site-packages/IPython/core/interactiveshell.py:3063: DtypeWarning: Columns (6) have mixed types.Specify dtype option on import or set low_memory=False.\n",
      "  interactivity=interactivity, compiler=compiler, result=result)\n"
     ]
    }
   ],
   "source": [
    "what = pd.read_csv('../data/ws_all_songs_cleaned.csv')"
   ]
  },
  {
   "cell_type": "code",
   "execution_count": 7,
   "metadata": {},
   "outputs": [
    {
     "data": {
      "text/html": [
       "<div>\n",
       "<style scoped>\n",
       "    .dataframe tbody tr th:only-of-type {\n",
       "        vertical-align: middle;\n",
       "    }\n",
       "\n",
       "    .dataframe tbody tr th {\n",
       "        vertical-align: top;\n",
       "    }\n",
       "\n",
       "    .dataframe thead th {\n",
       "        text-align: right;\n",
       "    }\n",
       "</style>\n",
       "<table border=\"1\" class=\"dataframe\">\n",
       "  <thead>\n",
       "    <tr style=\"text-align: right;\">\n",
       "      <th></th>\n",
       "      <th>artist</th>\n",
       "      <th>song_title</th>\n",
       "      <th>show</th>\n",
       "      <th>episode</th>\n",
       "      <th>date</th>\n",
       "      <th>month_year</th>\n",
       "      <th>year</th>\n",
       "      <th>favorites</th>\n",
       "      <th>song_artist</th>\n",
       "      <th>type</th>\n",
       "      <th>avg_per_ep</th>\n",
       "    </tr>\n",
       "  </thead>\n",
       "  <tbody>\n",
       "    <tr>\n",
       "      <th>0</th>\n",
       "      <td>Dusty Springfield</td>\n",
       "      <td>Girls It Ain't Easy</td>\n",
       "      <td>The Hunt</td>\n",
       "      <td>none</td>\n",
       "      <td>12 Mar 2020</td>\n",
       "      <td>Mar 2020</td>\n",
       "      <td>2020</td>\n",
       "      <td>0</td>\n",
       "      <td>\"Girls It Ain't Easy\" - Dusty Springfield</td>\n",
       "      <td>Movie</td>\n",
       "      <td>35.00</td>\n",
       "    </tr>\n",
       "    <tr>\n",
       "      <th>1</th>\n",
       "      <td>Dusty Springfield</td>\n",
       "      <td>Wishin' and Hopin'</td>\n",
       "      <td>Sex Education</td>\n",
       "      <td>S2E8</td>\n",
       "      <td>16 Jan 2020</td>\n",
       "      <td>Jan 2020</td>\n",
       "      <td>2020</td>\n",
       "      <td>0</td>\n",
       "      <td>\"Wishin' and Hopin'\" - Dusty Springfield</td>\n",
       "      <td>TV</td>\n",
       "      <td>7.94</td>\n",
       "    </tr>\n",
       "    <tr>\n",
       "      <th>2</th>\n",
       "      <td>Dusty Springfield</td>\n",
       "      <td>Spooky</td>\n",
       "      <td>9-1-1</td>\n",
       "      <td>S3E6</td>\n",
       "      <td>27 Oct 2019</td>\n",
       "      <td>Oct 2019</td>\n",
       "      <td>2019</td>\n",
       "      <td>0</td>\n",
       "      <td>\"Spooky\" - Dusty Springfield</td>\n",
       "      <td>TV</td>\n",
       "      <td>4.11</td>\n",
       "    </tr>\n",
       "    <tr>\n",
       "      <th>3</th>\n",
       "      <td>Dusty Springfield</td>\n",
       "      <td>I Can't Make It Alone</td>\n",
       "      <td>The Deuce</td>\n",
       "      <td>S3E4</td>\n",
       "      <td>29 Sep 2019</td>\n",
       "      <td>Sep 2019</td>\n",
       "      <td>2019</td>\n",
       "      <td>0</td>\n",
       "      <td>\"I Can't Make It Alone\" - Dusty Springfield</td>\n",
       "      <td>TV</td>\n",
       "      <td>7.80</td>\n",
       "    </tr>\n",
       "    <tr>\n",
       "      <th>4</th>\n",
       "      <td>Dusty Springfield</td>\n",
       "      <td>No Easy Way Down</td>\n",
       "      <td>The Deuce</td>\n",
       "      <td>S3E4</td>\n",
       "      <td>29 Sep 2019</td>\n",
       "      <td>Sep 2019</td>\n",
       "      <td>2019</td>\n",
       "      <td>0</td>\n",
       "      <td>\"No Easy Way Down\" - Dusty Springfield</td>\n",
       "      <td>TV</td>\n",
       "      <td>7.80</td>\n",
       "    </tr>\n",
       "  </tbody>\n",
       "</table>\n",
       "</div>"
      ],
      "text/plain": [
       "              artist             song_title           show episode  \\\n",
       "0  Dusty Springfield    Girls It Ain't Easy       The Hunt    none   \n",
       "1  Dusty Springfield     Wishin' and Hopin'  Sex Education    S2E8   \n",
       "2  Dusty Springfield                 Spooky          9-1-1    S3E6   \n",
       "3  Dusty Springfield  I Can't Make It Alone      The Deuce    S3E4   \n",
       "4  Dusty Springfield       No Easy Way Down      The Deuce    S3E4   \n",
       "\n",
       "          date month_year  year  favorites  \\\n",
       "0  12 Mar 2020   Mar 2020  2020          0   \n",
       "1  16 Jan 2020   Jan 2020  2020          0   \n",
       "2  27 Oct 2019   Oct 2019  2019          0   \n",
       "3  29 Sep 2019   Sep 2019  2019          0   \n",
       "4  29 Sep 2019   Sep 2019  2019          0   \n",
       "\n",
       "                                   song_artist   type  avg_per_ep  \n",
       "0    \"Girls It Ain't Easy\" - Dusty Springfield  Movie       35.00  \n",
       "1     \"Wishin' and Hopin'\" - Dusty Springfield     TV        7.94  \n",
       "2                 \"Spooky\" - Dusty Springfield     TV        4.11  \n",
       "3  \"I Can't Make It Alone\" - Dusty Springfield     TV        7.80  \n",
       "4       \"No Easy Way Down\" - Dusty Springfield     TV        7.80  "
      ]
     },
     "execution_count": 7,
     "metadata": {},
     "output_type": "execute_result"
    }
   ],
   "source": [
    "what.head()"
   ]
  },
  {
   "cell_type": "code",
   "execution_count": 8,
   "metadata": {},
   "outputs": [],
   "source": [
    "what.loc['song_artist', :] = what['song_title'] + \" - \" + what[\"artist\"]"
   ]
  },
  {
   "cell_type": "code",
   "execution_count": 9,
   "metadata": {},
   "outputs": [],
   "source": [
    "what = what.dropna()"
   ]
  },
  {
   "cell_type": "code",
   "execution_count": 10,
   "metadata": {},
   "outputs": [],
   "source": [
    "def remove_quote(string):\n",
    "    return string.replace('\\\"', '')"
   ]
  },
  {
   "cell_type": "code",
   "execution_count": 11,
   "metadata": {},
   "outputs": [],
   "source": [
    "what['song_artist'] = what['song_artist'].apply(remove_quote)"
   ]
  },
  {
   "cell_type": "markdown",
   "metadata": {},
   "source": [
    "Finding the unique title/artist combinations and saving them as a set will make it quicker for my computer to search through."
   ]
  },
  {
   "cell_type": "code",
   "execution_count": 12,
   "metadata": {},
   "outputs": [],
   "source": [
    "synced = set(what['song_artist'].unique())"
   ]
  },
  {
   "cell_type": "markdown",
   "metadata": {},
   "source": [
    "Also making everything lowercase helps the matches be more accurate."
   ]
  },
  {
   "cell_type": "code",
   "execution_count": 13,
   "metadata": {},
   "outputs": [],
   "source": [
    "def lower(string):\n",
    "    return string.lower()"
   ]
  },
  {
   "cell_type": "code",
   "execution_count": 14,
   "metadata": {},
   "outputs": [],
   "source": [
    "synced = str(set([lower(x) for x in synced]))"
   ]
  },
  {
   "cell_type": "markdown",
   "metadata": {},
   "source": [
    "This removes songs that were on the soundtrack aka created for the film/show. These aren't helpful in predicting if a song is usable because it is made specifically for that project and no licensing is needed."
   ]
  },
  {
   "cell_type": "code",
   "execution_count": 15,
   "metadata": {},
   "outputs": [],
   "source": [
    "kara = kara.drop(index = kara[kara['Styles'].str.contains('soundtrack')].index)"
   ]
  },
  {
   "cell_type": "markdown",
   "metadata": {},
   "source": [
    "The function below returns 1 if the song is on the WhatSong website and has been synced before."
   ]
  },
  {
   "cell_type": "code",
   "execution_count": 16,
   "metadata": {},
   "outputs": [],
   "source": [
    "def sync(song):\n",
    "    if song in synced:\n",
    "        return 1\n",
    "    else:\n",
    "        return 0"
   ]
  },
  {
   "cell_type": "code",
   "execution_count": 17,
   "metadata": {},
   "outputs": [],
   "source": [
    "kara['title_artist'] = kara['title_artist'].apply(lower)"
   ]
  },
  {
   "cell_type": "markdown",
   "metadata": {},
   "source": [
    "Applying the synced function to the karaoke songs:"
   ]
  },
  {
   "cell_type": "code",
   "execution_count": 18,
   "metadata": {},
   "outputs": [],
   "source": [
    "kara['synced'] = kara['title_artist'].apply(sync)"
   ]
  },
  {
   "cell_type": "markdown",
   "metadata": {},
   "source": [
    "Songs with artists of \"Traditional\" are in the public domain. I personally know many of these songs are used quite frequently, but there's a differnet artist attached, not \"Traditional\", so I'll go ahead and set these as synced."
   ]
  },
  {
   "cell_type": "code",
   "execution_count": 19,
   "metadata": {},
   "outputs": [],
   "source": [
    "kara.loc[kara[kara['Artist'].str.contains('Traditional')].index, 'synced'] = 1"
   ]
  },
  {
   "cell_type": "code",
   "execution_count": 20,
   "metadata": {},
   "outputs": [
    {
     "data": {
      "text/plain": [
       "0    29372\n",
       "1     4783\n",
       "Name: synced, dtype: int64"
      ]
     },
     "execution_count": 20,
     "metadata": {},
     "output_type": "execute_result"
    }
   ],
   "source": [
    "kara['synced'].value_counts()"
   ]
  },
  {
   "cell_type": "code",
   "execution_count": 21,
   "metadata": {},
   "outputs": [],
   "source": [
    "kara = kara[kara['Languages'].str.contains('English')]"
   ]
  },
  {
   "cell_type": "code",
   "execution_count": 22,
   "metadata": {},
   "outputs": [
    {
     "data": {
      "text/plain": [
       "0    21317\n",
       "1     4691\n",
       "Name: synced, dtype: int64"
      ]
     },
     "execution_count": 22,
     "metadata": {},
     "output_type": "execute_result"
    }
   ],
   "source": [
    "kara['synced'].value_counts()"
   ]
  },
  {
   "cell_type": "code",
   "execution_count": 23,
   "metadata": {},
   "outputs": [
    {
     "data": {
      "text/html": [
       "<div>\n",
       "<style scoped>\n",
       "    .dataframe tbody tr th:only-of-type {\n",
       "        vertical-align: middle;\n",
       "    }\n",
       "\n",
       "    .dataframe tbody tr th {\n",
       "        vertical-align: top;\n",
       "    }\n",
       "\n",
       "    .dataframe thead th {\n",
       "        text-align: right;\n",
       "    }\n",
       "</style>\n",
       "<table border=\"1\" class=\"dataframe\">\n",
       "  <thead>\n",
       "    <tr style=\"text-align: right;\">\n",
       "      <th></th>\n",
       "      <th>Id</th>\n",
       "      <th>Title</th>\n",
       "      <th>Artist</th>\n",
       "      <th>Year</th>\n",
       "      <th>Duo</th>\n",
       "      <th>Explicit</th>\n",
       "      <th>Date Added</th>\n",
       "      <th>Styles</th>\n",
       "      <th>Languages</th>\n",
       "      <th>title_artist</th>\n",
       "      <th>synced</th>\n",
       "    </tr>\n",
       "  </thead>\n",
       "  <tbody>\n",
       "    <tr>\n",
       "      <th>22</th>\n",
       "      <td>60088</td>\n",
       "      <td>Blinding Lights</td>\n",
       "      <td>The Weeknd</td>\n",
       "      <td>2019</td>\n",
       "      <td>0</td>\n",
       "      <td>0</td>\n",
       "      <td>2020-01-13</td>\n",
       "      <td>80s,Pop,Electro</td>\n",
       "      <td>English</td>\n",
       "      <td>blinding lights - the weeknd</td>\n",
       "      <td>0</td>\n",
       "    </tr>\n",
       "    <tr>\n",
       "      <th>24</th>\n",
       "      <td>59413</td>\n",
       "      <td>Memories</td>\n",
       "      <td>Maroon 5</td>\n",
       "      <td>2019</td>\n",
       "      <td>0</td>\n",
       "      <td>0</td>\n",
       "      <td>2019-11-03</td>\n",
       "      <td>Pop</td>\n",
       "      <td>English</td>\n",
       "      <td>memories - maroon 5</td>\n",
       "      <td>0</td>\n",
       "    </tr>\n",
       "    <tr>\n",
       "      <th>27</th>\n",
       "      <td>5089</td>\n",
       "      <td>Let It Be</td>\n",
       "      <td>The Beatles</td>\n",
       "      <td>1970</td>\n",
       "      <td>0</td>\n",
       "      <td>0</td>\n",
       "      <td>2011-10-28</td>\n",
       "      <td>Pop</td>\n",
       "      <td>English</td>\n",
       "      <td>let it be - the beatles</td>\n",
       "      <td>0</td>\n",
       "    </tr>\n",
       "    <tr>\n",
       "      <th>37</th>\n",
       "      <td>12913</td>\n",
       "      <td>Stand by Me</td>\n",
       "      <td>Ben E. King</td>\n",
       "      <td>1961</td>\n",
       "      <td>0</td>\n",
       "      <td>0</td>\n",
       "      <td>2008-07-25</td>\n",
       "      <td>Soul</td>\n",
       "      <td>English</td>\n",
       "      <td>stand by me - ben e. king</td>\n",
       "      <td>0</td>\n",
       "    </tr>\n",
       "    <tr>\n",
       "      <th>42</th>\n",
       "      <td>21608</td>\n",
       "      <td>Hallelujah</td>\n",
       "      <td>Alexandra Burke</td>\n",
       "      <td>2008</td>\n",
       "      <td>0</td>\n",
       "      <td>0</td>\n",
       "      <td>2011-05-30</td>\n",
       "      <td>Pop</td>\n",
       "      <td>English</td>\n",
       "      <td>hallelujah - alexandra burke</td>\n",
       "      <td>0</td>\n",
       "    </tr>\n",
       "    <tr>\n",
       "      <th>...</th>\n",
       "      <td>...</td>\n",
       "      <td>...</td>\n",
       "      <td>...</td>\n",
       "      <td>...</td>\n",
       "      <td>...</td>\n",
       "      <td>...</td>\n",
       "      <td>...</td>\n",
       "      <td>...</td>\n",
       "      <td>...</td>\n",
       "      <td>...</td>\n",
       "      <td>...</td>\n",
       "    </tr>\n",
       "    <tr>\n",
       "      <th>36457</th>\n",
       "      <td>29762</td>\n",
       "      <td>Breathe</td>\n",
       "      <td>Seven Channels</td>\n",
       "      <td>2001</td>\n",
       "      <td>0</td>\n",
       "      <td>0</td>\n",
       "      <td>2013-08-01</td>\n",
       "      <td>Hard/Metal,Rock</td>\n",
       "      <td>English</td>\n",
       "      <td>breathe - seven channels</td>\n",
       "      <td>0</td>\n",
       "    </tr>\n",
       "    <tr>\n",
       "      <th>36458</th>\n",
       "      <td>30797</td>\n",
       "      <td>Steppin' Away</td>\n",
       "      <td>Stereomud</td>\n",
       "      <td>2001</td>\n",
       "      <td>0</td>\n",
       "      <td>0</td>\n",
       "      <td>2011-11-16</td>\n",
       "      <td>Hard/Metal,Rock</td>\n",
       "      <td>English</td>\n",
       "      <td>steppin' away - stereomud</td>\n",
       "      <td>0</td>\n",
       "    </tr>\n",
       "    <tr>\n",
       "      <th>36459</th>\n",
       "      <td>19236</td>\n",
       "      <td>Where Do We Go</td>\n",
       "      <td>Sandrine</td>\n",
       "      <td>2007</td>\n",
       "      <td>0</td>\n",
       "      <td>0</td>\n",
       "      <td>2013-07-23</td>\n",
       "      <td>Pop</td>\n",
       "      <td>English</td>\n",
       "      <td>where do we go - sandrine</td>\n",
       "      <td>0</td>\n",
       "    </tr>\n",
       "    <tr>\n",
       "      <th>36461</th>\n",
       "      <td>47720</td>\n",
       "      <td>As Long As I Got You</td>\n",
       "      <td>Lily Allen</td>\n",
       "      <td>2014</td>\n",
       "      <td>0</td>\n",
       "      <td>0</td>\n",
       "      <td>2016-02-24</td>\n",
       "      <td>Pop</td>\n",
       "      <td>English</td>\n",
       "      <td>as long as i got you - lily allen</td>\n",
       "      <td>0</td>\n",
       "    </tr>\n",
       "    <tr>\n",
       "      <th>36462</th>\n",
       "      <td>23828</td>\n",
       "      <td>Cold</td>\n",
       "      <td>Jeremy McComb</td>\n",
       "      <td>2008</td>\n",
       "      <td>0</td>\n",
       "      <td>0</td>\n",
       "      <td>2013-11-19</td>\n",
       "      <td>Country</td>\n",
       "      <td>English</td>\n",
       "      <td>cold - jeremy mccomb</td>\n",
       "      <td>0</td>\n",
       "    </tr>\n",
       "  </tbody>\n",
       "</table>\n",
       "<p>21317 rows × 11 columns</p>\n",
       "</div>"
      ],
      "text/plain": [
       "          Id                 Title           Artist  Year  Duo  Explicit  \\\n",
       "22     60088       Blinding Lights       The Weeknd  2019    0         0   \n",
       "24     59413              Memories         Maroon 5  2019    0         0   \n",
       "27      5089             Let It Be      The Beatles  1970    0         0   \n",
       "37     12913           Stand by Me      Ben E. King  1961    0         0   \n",
       "42     21608            Hallelujah  Alexandra Burke  2008    0         0   \n",
       "...      ...                   ...              ...   ...  ...       ...   \n",
       "36457  29762               Breathe   Seven Channels  2001    0         0   \n",
       "36458  30797         Steppin' Away        Stereomud  2001    0         0   \n",
       "36459  19236        Where Do We Go         Sandrine  2007    0         0   \n",
       "36461  47720  As Long As I Got You       Lily Allen  2014    0         0   \n",
       "36462  23828                  Cold    Jeremy McComb  2008    0         0   \n",
       "\n",
       "       Date Added           Styles Languages  \\\n",
       "22     2020-01-13  80s,Pop,Electro   English   \n",
       "24     2019-11-03              Pop   English   \n",
       "27     2011-10-28              Pop   English   \n",
       "37     2008-07-25             Soul   English   \n",
       "42     2011-05-30              Pop   English   \n",
       "...           ...              ...       ...   \n",
       "36457  2013-08-01  Hard/Metal,Rock   English   \n",
       "36458  2011-11-16  Hard/Metal,Rock   English   \n",
       "36459  2013-07-23              Pop   English   \n",
       "36461  2016-02-24              Pop   English   \n",
       "36462  2013-11-19          Country   English   \n",
       "\n",
       "                            title_artist  synced  \n",
       "22          blinding lights - the weeknd       0  \n",
       "24                   memories - maroon 5       0  \n",
       "27               let it be - the beatles       0  \n",
       "37             stand by me - ben e. king       0  \n",
       "42          hallelujah - alexandra burke       0  \n",
       "...                                  ...     ...  \n",
       "36457           breathe - seven channels       0  \n",
       "36458          steppin' away - stereomud       0  \n",
       "36459          where do we go - sandrine       0  \n",
       "36461  as long as i got you - lily allen       0  \n",
       "36462               cold - jeremy mccomb       0  \n",
       "\n",
       "[21317 rows x 11 columns]"
      ]
     },
     "execution_count": 23,
     "metadata": {},
     "output_type": "execute_result"
    }
   ],
   "source": [
    "kara[kara['synced'] == 0]"
   ]
  },
  {
   "cell_type": "markdown",
   "metadata": {},
   "source": [
    "From my past experience, looking at these songs that were labeled \"not synced\" I know that some of them have been used just aren't recorded on the site. To fix the class imbalance and try to ensure accuracy, my final dataset will be around 10,000 songs including all in class 1, and a random sample of class 0 which I can manually check."
   ]
  },
  {
   "cell_type": "code",
   "execution_count": 24,
   "metadata": {},
   "outputs": [],
   "source": [
    "unsync = kara[kara['synced'] == 0].sample(10000, \n",
    "                                        replace = False, \n",
    "                                        random_state = 21)"
   ]
  },
  {
   "cell_type": "code",
   "execution_count": 25,
   "metadata": {},
   "outputs": [],
   "source": [
    "sync_df = kara[kara['synced'] == 1]"
   ]
  },
  {
   "cell_type": "code",
   "execution_count": 26,
   "metadata": {},
   "outputs": [],
   "source": [
    "sync_df = pd.concat([sync_df, unsync], axis = 0)"
   ]
  },
  {
   "cell_type": "code",
   "execution_count": 27,
   "metadata": {},
   "outputs": [],
   "source": [
    "sync_df = sync_df.reset_index()"
   ]
  },
  {
   "cell_type": "markdown",
   "metadata": {},
   "source": [
    "Getting rid of unnecessary columns."
   ]
  },
  {
   "cell_type": "code",
   "execution_count": 28,
   "metadata": {},
   "outputs": [],
   "source": [
    "sync_df = sync_df.drop(columns = ['index', 'Id', 'Duo', 'Date Added'])"
   ]
  },
  {
   "cell_type": "code",
   "execution_count": 29,
   "metadata": {},
   "outputs": [],
   "source": [
    "sync_df.to_csv('../data/synced.csv', index = False)"
   ]
  },
  {
   "cell_type": "code",
   "execution_count": 30,
   "metadata": {},
   "outputs": [
    {
     "data": {
      "text/html": [
       "<div>\n",
       "<style scoped>\n",
       "    .dataframe tbody tr th:only-of-type {\n",
       "        vertical-align: middle;\n",
       "    }\n",
       "\n",
       "    .dataframe tbody tr th {\n",
       "        vertical-align: top;\n",
       "    }\n",
       "\n",
       "    .dataframe thead th {\n",
       "        text-align: right;\n",
       "    }\n",
       "</style>\n",
       "<table border=\"1\" class=\"dataframe\">\n",
       "  <thead>\n",
       "    <tr style=\"text-align: right;\">\n",
       "      <th></th>\n",
       "      <th>Title</th>\n",
       "      <th>Artist</th>\n",
       "      <th>Year</th>\n",
       "      <th>Explicit</th>\n",
       "      <th>Styles</th>\n",
       "      <th>Languages</th>\n",
       "      <th>title_artist</th>\n",
       "      <th>synced</th>\n",
       "    </tr>\n",
       "  </thead>\n",
       "  <tbody>\n",
       "    <tr>\n",
       "      <th>0</th>\n",
       "      <td>Tennessee Whiskey</td>\n",
       "      <td>Chris Stapleton</td>\n",
       "      <td>2015</td>\n",
       "      <td>0</td>\n",
       "      <td>Blues,Rock,Country</td>\n",
       "      <td>English</td>\n",
       "      <td>tennessee whiskey - chris stapleton</td>\n",
       "      <td>1</td>\n",
       "    </tr>\n",
       "    <tr>\n",
       "      <th>1</th>\n",
       "      <td>Dance Monkey</td>\n",
       "      <td>Tones and I</td>\n",
       "      <td>2019</td>\n",
       "      <td>0</td>\n",
       "      <td>Pop</td>\n",
       "      <td>English</td>\n",
       "      <td>dance monkey - tones and i</td>\n",
       "      <td>1</td>\n",
       "    </tr>\n",
       "    <tr>\n",
       "      <th>2</th>\n",
       "      <td>Sweet Caroline</td>\n",
       "      <td>Neil Diamond</td>\n",
       "      <td>1969</td>\n",
       "      <td>0</td>\n",
       "      <td>Pop</td>\n",
       "      <td>English</td>\n",
       "      <td>sweet caroline - neil diamond</td>\n",
       "      <td>1</td>\n",
       "    </tr>\n",
       "    <tr>\n",
       "      <th>3</th>\n",
       "      <td>Someone You Loved</td>\n",
       "      <td>Lewis Capaldi</td>\n",
       "      <td>2018</td>\n",
       "      <td>0</td>\n",
       "      <td>Pop</td>\n",
       "      <td>English</td>\n",
       "      <td>someone you loved - lewis capaldi</td>\n",
       "      <td>1</td>\n",
       "    </tr>\n",
       "    <tr>\n",
       "      <th>4</th>\n",
       "      <td>Amazing Grace</td>\n",
       "      <td>Traditional</td>\n",
       "      <td>1831</td>\n",
       "      <td>0</td>\n",
       "      <td>Traditionnal,Gospel,Blues</td>\n",
       "      <td>English</td>\n",
       "      <td>amazing grace - traditional</td>\n",
       "      <td>1</td>\n",
       "    </tr>\n",
       "    <tr>\n",
       "      <th>...</th>\n",
       "      <td>...</td>\n",
       "      <td>...</td>\n",
       "      <td>...</td>\n",
       "      <td>...</td>\n",
       "      <td>...</td>\n",
       "      <td>...</td>\n",
       "      <td>...</td>\n",
       "      <td>...</td>\n",
       "    </tr>\n",
       "    <tr>\n",
       "      <th>14686</th>\n",
       "      <td>It Came Upon a Midnight Clear</td>\n",
       "      <td>Frank Sinatra</td>\n",
       "      <td>1948</td>\n",
       "      <td>0</td>\n",
       "      <td>Christmas,Christian,Traditionnal</td>\n",
       "      <td>English</td>\n",
       "      <td>it came upon a midnight clear - frank sinatra</td>\n",
       "      <td>0</td>\n",
       "    </tr>\n",
       "    <tr>\n",
       "      <th>14687</th>\n",
       "      <td>Singing The Blues</td>\n",
       "      <td>The Kentucky Headhunters</td>\n",
       "      <td>1997</td>\n",
       "      <td>0</td>\n",
       "      <td>Country,Rock,Rock 'n Roll</td>\n",
       "      <td>English</td>\n",
       "      <td>singing the blues - the kentucky headhunters</td>\n",
       "      <td>0</td>\n",
       "    </tr>\n",
       "    <tr>\n",
       "      <th>14688</th>\n",
       "      <td>Beautiful War</td>\n",
       "      <td>Kings of Leon</td>\n",
       "      <td>2013</td>\n",
       "      <td>0</td>\n",
       "      <td>Alternative,Rock</td>\n",
       "      <td>English</td>\n",
       "      <td>beautiful war - kings of leon</td>\n",
       "      <td>0</td>\n",
       "    </tr>\n",
       "    <tr>\n",
       "      <th>14689</th>\n",
       "      <td>Midnight Blues</td>\n",
       "      <td>Gary Moore</td>\n",
       "      <td>1990</td>\n",
       "      <td>0</td>\n",
       "      <td>Blues,Rock</td>\n",
       "      <td>English</td>\n",
       "      <td>midnight blues - gary moore</td>\n",
       "      <td>0</td>\n",
       "    </tr>\n",
       "    <tr>\n",
       "      <th>14690</th>\n",
       "      <td>Smokin' and Drinkin'</td>\n",
       "      <td>Miranda Lambert</td>\n",
       "      <td>2014</td>\n",
       "      <td>0</td>\n",
       "      <td>Pop,Country,Soft rock</td>\n",
       "      <td>English</td>\n",
       "      <td>smokin' and drinkin' - miranda lambert</td>\n",
       "      <td>0</td>\n",
       "    </tr>\n",
       "  </tbody>\n",
       "</table>\n",
       "<p>14691 rows × 8 columns</p>\n",
       "</div>"
      ],
      "text/plain": [
       "                               Title                    Artist  Year  \\\n",
       "0                  Tennessee Whiskey           Chris Stapleton  2015   \n",
       "1                       Dance Monkey               Tones and I  2019   \n",
       "2                     Sweet Caroline              Neil Diamond  1969   \n",
       "3                  Someone You Loved             Lewis Capaldi  2018   \n",
       "4                      Amazing Grace               Traditional  1831   \n",
       "...                              ...                       ...   ...   \n",
       "14686  It Came Upon a Midnight Clear             Frank Sinatra  1948   \n",
       "14687              Singing The Blues  The Kentucky Headhunters  1997   \n",
       "14688                  Beautiful War             Kings of Leon  2013   \n",
       "14689                 Midnight Blues                Gary Moore  1990   \n",
       "14690           Smokin' and Drinkin'           Miranda Lambert  2014   \n",
       "\n",
       "       Explicit                            Styles Languages  \\\n",
       "0             0                Blues,Rock,Country   English   \n",
       "1             0                               Pop   English   \n",
       "2             0                               Pop   English   \n",
       "3             0                               Pop   English   \n",
       "4             0         Traditionnal,Gospel,Blues   English   \n",
       "...         ...                               ...       ...   \n",
       "14686         0  Christmas,Christian,Traditionnal   English   \n",
       "14687         0         Country,Rock,Rock 'n Roll   English   \n",
       "14688         0                  Alternative,Rock   English   \n",
       "14689         0                        Blues,Rock   English   \n",
       "14690         0             Pop,Country,Soft rock   English   \n",
       "\n",
       "                                        title_artist  synced  \n",
       "0                tennessee whiskey - chris stapleton       1  \n",
       "1                         dance monkey - tones and i       1  \n",
       "2                      sweet caroline - neil diamond       1  \n",
       "3                  someone you loved - lewis capaldi       1  \n",
       "4                        amazing grace - traditional       1  \n",
       "...                                              ...     ...  \n",
       "14686  it came upon a midnight clear - frank sinatra       0  \n",
       "14687   singing the blues - the kentucky headhunters       0  \n",
       "14688                  beautiful war - kings of leon       0  \n",
       "14689                    midnight blues - gary moore       0  \n",
       "14690         smokin' and drinkin' - miranda lambert       0  \n",
       "\n",
       "[14691 rows x 8 columns]"
      ]
     },
     "execution_count": 30,
     "metadata": {},
     "output_type": "execute_result"
    }
   ],
   "source": [
    "sync_df"
   ]
  }
 ],
 "metadata": {
  "kernelspec": {
   "display_name": "Python 3",
   "language": "python",
   "name": "python3"
  },
  "language_info": {
   "codemirror_mode": {
    "name": "ipython",
    "version": 3
   },
   "file_extension": ".py",
   "mimetype": "text/x-python",
   "name": "python",
   "nbconvert_exporter": "python",
   "pygments_lexer": "ipython3",
   "version": "3.7.6"
  }
 },
 "nbformat": 4,
 "nbformat_minor": 4
}
